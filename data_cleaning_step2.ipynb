{
 "cells": [
  {
   "cell_type": "markdown",
   "id": "c712bbe5-041d-4978-8dd2-f3021db337eb",
   "metadata": {},
   "source": [
    "### DATA CLEANING - STEP 2"
   ]
  },
  {
   "cell_type": "markdown",
   "id": "ee957b49-bd3f-415f-991b-3b05e807303c",
   "metadata": {},
   "source": [
    "Please read data_cleaning_step1 for details about the initial steps for data analysis.\n",
    "After investigatig further the data the following decisions were taken:\n",
    "\n",
    "<b> Feature selection from clinical input: </b>\n",
    "- ALP (Alkaline Phosphatase), ALT (Alanine Aminotransferase), and AST (Aspartate Aminotransferase) are all liver-related markers. They are relevant primarily for patients admitted due to liver issues. Among these, AST takes precedence over ALT and ALP.\n",
    "- Cholesterol can be disregarded.\n",
    "- DiasABP, MAP, NiDiasABP, NiMAP, NiSysABP, SySABP are all blood pressure variables. The focus should be on MAP (Mean Arterial Pressure), particularly prioritizing NiMAP (Non-Invasive Mean Arterial Pressure).\n",
    "- Among troponins, only T is typically used, so Troponin I can be eliminated.\n",
    "- For oxygenation-related parameters, FiO2 (Fraction of Inspired Oxygen) and PAO2 (Partial Pressure of Oxygen) are retained, with SaO2 (Oxygen Saturation) and RespRate (Respiration Rate) can be omitted.\n",
    "  \n",
    "<b> Feature extraction: </b>\n",
    "\n",
    "- Remove outliers by calculating 4 * IQR. The reason behind this is that normally an outlier is consider as something that is above 1.5 IQR. In this case because we have ill patients we consider bigger IQR as plausible values.\n",
    "- Create a feature BMI and remove from the dataframe Weight and Heigh\n",
    "- For Mechanical ventilation assume Nan as no mechanical ventilation (assign this values to 0)\n",
    "- For every time parameter extract:\n",
    "   - median\n",
    "   - median at 24 hours\n",
    "   - median at 48 hours\n",
    "   - normalized MAD\n",
    "   - max\n",
    "   - last value\n",
    "   - slope (only extract if we have more than 15 data points in total available, in order to be able to calculate a good slope)\n",
    "\n",
    "<b> Feature selection: </b> \n",
    "- Looking for features that are not representative and with excessive NaN values: Eliminate features where more than 40% of participants have missing values\n",
    "\n",
    "- Look at correlations amongst features and also correlations amongst features and eliminate those features with a correlation > 0.8 \n",
    "\n",
    "- Drop low variance features:  Zero or near-zero variance. Features that are (almost) constant provide little information to learn from and thus are irrelevant.\n",
    "   "
   ]
  },
  {
   "cell_type": "code",
   "execution_count": 105,
   "id": "6a919cb4-e9d8-49ee-a691-72057d557685",
   "metadata": {},
   "outputs": [],
   "source": [
    "import pandas as pd\n",
    "import pandas as pd\n",
    "import glob\n",
    "from pathlib import Path  # Importing the Path class from the pathlib module\n",
    "import numpy as np\n",
    "import time\n",
    "import matplotlib.pyplot as plt\n",
    "import plotly.graph_objects as go\n",
    "import os \n",
    "import math\n",
    "import seaborn as sns\n",
    "from sklearn.feature_selection import VarianceThreshold\n",
    "from sklearn.preprocessing import RobustScaler"
   ]
  },
  {
   "cell_type": "code",
   "execution_count": 106,
   "id": "eccbc77a-d252-40a6-835f-bb257ad452f8",
   "metadata": {},
   "outputs": [],
   "source": [
    "#GLOBAL VARIABLES\n",
    "# Define the programmer whose path you want to use\n",
    "programmer = 'esther'\n",
    "\n",
    "#variables for paths names\n",
    "file_paths_names = {\n",
    "    'patricia': r\"..\\original_data\",\n",
    "    'esther': r\"C:\\Users\\egh22\\OneDrive - University of Canterbury\\bootcamp\\group project\\data\"\n",
    "}\n",
    "\n",
    "files_outcome_path_names = {\n",
    "    'patricia': r\"..\\original_data\\outcomes\",\n",
    "    'esther': r\"C:\\Users\\egh22\\OneDrive - University of Canterbury\\bootcamp\\group project\\data\\outcomes\"\n",
    "}\n",
    "\n",
    "\n",
    "files_path_to_save_files = {\n",
    "    'patricia': r\"..\\clean_data\",\n",
    "    'esther': r\"C:\\Users\\egh22\\OneDrive - University of Canterbury\\bootcamp\\group project\\clean_data\"\n",
    "}\n",
    "\n",
    "# Choose the file path based on the programmer variable\n",
    "file_path_to_save = files_path_to_save_files[programmer]\n",
    "\n",
    "\n",
    "# VARIABLES FOR FEATURE REDUCTION\n",
    "#threshold variables\n",
    "#defines the number of std needed for a value to be considered out of range\n",
    "threshold_for_outliers = 4\n",
    "#defines the percentage of patients with NaNs for a feature  to be deleted from dataframe\n",
    "thresholds_for_non_important_features = 50\n",
    "#variance reduction threshold \n",
    "thresholds_variance_reduction = 0.02"
   ]
  },
  {
   "cell_type": "code",
   "execution_count": 107,
   "id": "89e238d8-1cc4-4d8e-86ff-9d115a164b3a",
   "metadata": {},
   "outputs": [],
   "source": [
    "def timeit(func):\n",
    "    \"\"\"\n",
    "    Decorator function to measure the execution time of another function.\n",
    "\n",
    "    Parameters:\n",
    "        func (callable): The function to be decorated.\n",
    "\n",
    "    Returns:\n",
    "        callable: A wrapper function that measures the execution time of the decorated function.\n",
    "    \"\"\"\n",
    "    def wrapper(*args, **kwargs):\n",
    "        \"\"\"\n",
    "        Wrapper function that measures the execution time of the decorated function.\n",
    "\n",
    "        Parameters:\n",
    "            *args: Positional arguments to be passed to the decorated function.\n",
    "            **kwargs: Keyword arguments to be passed to the decorated function.\n",
    "\n",
    "        Returns:\n",
    "            Any: The return value of the decorated function.\n",
    "        \"\"\"\n",
    "        start_time = time.time()\n",
    "        result = func(*args, **kwargs)\n",
    "        end_time = time.time()\n",
    "        elapsed_time = end_time - start_time\n",
    "        print(f\"Function '{func.__name__}' elapsed time: {elapsed_time} seconds\")\n",
    "        return result\n",
    "    return wrapper\n"
   ]
  },
  {
   "cell_type": "code",
   "execution_count": 108,
   "id": "454a6a51-f535-4018-98a7-0057745efeb2",
   "metadata": {},
   "outputs": [],
   "source": [
    "@timeit\n",
    "def process_time_series_files(time_series_files: list, all_parameters: list, non_time_parameters: list, categorical_parameters:list, summary_function: callable) -> pd.DataFrame:\n",
    "    \"\"\"\n",
    "    Process a list of time series files and extract summary statistics for each file using a specified summary function.\n",
    "\n",
    "    Parameters:\n",
    "        time_series_files (list): A list of file paths to time series data files.\n",
    "        all_parameters (list): A list of all parameters to calculate metrics for.\n",
    "        non_time_parameters (list): A list of non-time parameters to extract values for.\n",
    "        categorical_parameters (list): A list of special non-time parameters, that may appear more than once over time but always takes same value to extract values for.\n",
    "        summary_function (callable): A function to calculate summary statistics for a DataFrame.\n",
    "\n",
    "    Returns:\n",
    "        pd.DataFrame: A DataFrame containing the summary statistics for all files.\n",
    "    \"\"\"\n",
    "    results = []\n",
    "\n",
    "    for file_path in time_series_files:\n",
    "        # Read the file into a DataFrame\n",
    "        df = pd.read_csv(file_path)\n",
    "        \n",
    "        # Extract summary statistics for the DataFrame using the specified summary function\n",
    "        result = summary_function(df, all_parameters, non_time_parameters, categorical_parameters)\n",
    "        \n",
    "        # Append the result to the results list\n",
    "        results.append(result)\n",
    "\n",
    "    # Concatenate results into a single DataFrame\n",
    "    final_result = pd.concat(results, ignore_index=True)\n",
    "    \n",
    "    return final_result\n"
   ]
  },
  {
   "cell_type": "code",
   "execution_count": 109,
   "id": "4f390463-94db-404f-89a8-66fff29d366e",
   "metadata": {},
   "outputs": [],
   "source": [
    "# make a list with all time parameters in the dataset\n",
    "time_parameters =  ['Albumin', 'ALP', 'ALT', 'AST', 'Bilirubin', 'BUN', 'Cholesterol', \n",
    "                    'Creatinine', 'DiasABP', 'FiO2', 'GCS', 'Glucose', 'HCO3', 'HCT', 'HR', 'K',\n",
    "                    'Lactate', 'Mg', 'MAP', 'Na', 'NIDiasABP', 'NIMAP', 'NISysABP', 'PaCO2', \n",
    "                 'PaO2',  'pH', 'Platelets', 'RespRate', 'SaO2', 'SysABP', 'Temp', 'TropI', 'TropT', 'Urine', 'WBC',  'Weight']\n",
    "time_parameters_original = time_parameters\n",
    "non_time_parameters = ['RecordID', 'Age', 'Gender', 'Height', 'ICUType']\n",
    "demographic_parameters = non_time_parameters\n",
    "\n",
    "categorical_parameters = ['MechVent']\n",
    "\n",
    "# Concatenate all the lists\n",
    "all_parameters = time_parameters + non_time_parameters + categorical_parameters"
   ]
  },
  {
   "cell_type": "code",
   "execution_count": 110,
   "id": "a6c5bcef-50df-4872-b926-94deff357f0d",
   "metadata": {},
   "outputs": [
    {
     "name": "stdout",
     "output_type": "stream",
     "text": [
      "Number of text files: 8000\n"
     ]
    },
    {
     "data": {
      "text/plain": [
       "'C:\\\\Users\\\\egh22\\\\OneDrive - University of Canterbury\\\\bootcamp\\\\group project\\\\data\\\\132540.txt'"
      ]
     },
     "execution_count": 110,
     "metadata": {},
     "output_type": "execute_result"
    }
   ],
   "source": [
    "# Specify the file path using a raw string\n",
    "#Modify path to your desired one\n",
    "files_path = file_paths_names[programmer]\n",
    "\n",
    "# Use glob to find all .txt files in the directory\n",
    "time_series_files = glob.glob(str(Path(files_path) / \"*.txt\"))  # Using Path to construct the file path\n",
    "\n",
    "# Print the number of files found\n",
    "print(f\"Number of text files: {len(time_series_files)}\")\n",
    "#delete this after demonstration\n",
    "time_series_files_test = time_series_files[1]\n",
    "#df = pd.read_csv(time_series_files[1])\n",
    "time_series_files_test"
   ]
  },
  {
   "cell_type": "code",
   "execution_count": 111,
   "id": "6cc14c57-f7bd-4973-9675-bd617e7c7fb0",
   "metadata": {},
   "outputs": [
    {
     "data": {
      "text/html": [
       "<div>\n",
       "<style scoped>\n",
       "    .dataframe tbody tr th:only-of-type {\n",
       "        vertical-align: middle;\n",
       "    }\n",
       "\n",
       "    .dataframe tbody tr th {\n",
       "        vertical-align: top;\n",
       "    }\n",
       "\n",
       "    .dataframe thead th {\n",
       "        text-align: right;\n",
       "    }\n",
       "</style>\n",
       "<table border=\"1\" class=\"dataframe\">\n",
       "  <thead>\n",
       "    <tr style=\"text-align: right;\">\n",
       "      <th></th>\n",
       "      <th>RecordID</th>\n",
       "      <th>SAPS-I</th>\n",
       "      <th>SOFA</th>\n",
       "      <th>Length_of_stay</th>\n",
       "      <th>Survival</th>\n",
       "      <th>In-hospital_death</th>\n",
       "    </tr>\n",
       "  </thead>\n",
       "  <tbody>\n",
       "    <tr>\n",
       "      <th>0</th>\n",
       "      <td>132539</td>\n",
       "      <td>6</td>\n",
       "      <td>1</td>\n",
       "      <td>5</td>\n",
       "      <td>-1</td>\n",
       "      <td>0</td>\n",
       "    </tr>\n",
       "    <tr>\n",
       "      <th>1</th>\n",
       "      <td>132540</td>\n",
       "      <td>16</td>\n",
       "      <td>8</td>\n",
       "      <td>8</td>\n",
       "      <td>-1</td>\n",
       "      <td>0</td>\n",
       "    </tr>\n",
       "    <tr>\n",
       "      <th>2</th>\n",
       "      <td>132541</td>\n",
       "      <td>21</td>\n",
       "      <td>11</td>\n",
       "      <td>19</td>\n",
       "      <td>-1</td>\n",
       "      <td>0</td>\n",
       "    </tr>\n",
       "    <tr>\n",
       "      <th>3</th>\n",
       "      <td>132543</td>\n",
       "      <td>7</td>\n",
       "      <td>1</td>\n",
       "      <td>9</td>\n",
       "      <td>575</td>\n",
       "      <td>0</td>\n",
       "    </tr>\n",
       "    <tr>\n",
       "      <th>4</th>\n",
       "      <td>132545</td>\n",
       "      <td>17</td>\n",
       "      <td>2</td>\n",
       "      <td>4</td>\n",
       "      <td>918</td>\n",
       "      <td>0</td>\n",
       "    </tr>\n",
       "    <tr>\n",
       "      <th>...</th>\n",
       "      <td>...</td>\n",
       "      <td>...</td>\n",
       "      <td>...</td>\n",
       "      <td>...</td>\n",
       "      <td>...</td>\n",
       "      <td>...</td>\n",
       "    </tr>\n",
       "    <tr>\n",
       "      <th>7995</th>\n",
       "      <td>152849</td>\n",
       "      <td>21</td>\n",
       "      <td>13</td>\n",
       "      <td>6</td>\n",
       "      <td>752</td>\n",
       "      <td>0</td>\n",
       "    </tr>\n",
       "    <tr>\n",
       "      <th>7996</th>\n",
       "      <td>152851</td>\n",
       "      <td>28</td>\n",
       "      <td>14</td>\n",
       "      <td>10</td>\n",
       "      <td>39</td>\n",
       "      <td>0</td>\n",
       "    </tr>\n",
       "    <tr>\n",
       "      <th>7997</th>\n",
       "      <td>152858</td>\n",
       "      <td>12</td>\n",
       "      <td>4</td>\n",
       "      <td>19</td>\n",
       "      <td>334</td>\n",
       "      <td>0</td>\n",
       "    </tr>\n",
       "    <tr>\n",
       "      <th>7998</th>\n",
       "      <td>152862</td>\n",
       "      <td>5</td>\n",
       "      <td>0</td>\n",
       "      <td>12</td>\n",
       "      <td>-1</td>\n",
       "      <td>0</td>\n",
       "    </tr>\n",
       "    <tr>\n",
       "      <th>7999</th>\n",
       "      <td>152864</td>\n",
       "      <td>18</td>\n",
       "      <td>8</td>\n",
       "      <td>14</td>\n",
       "      <td>88</td>\n",
       "      <td>0</td>\n",
       "    </tr>\n",
       "  </tbody>\n",
       "</table>\n",
       "<p>8000 rows × 6 columns</p>\n",
       "</div>"
      ],
      "text/plain": [
       "      RecordID  SAPS-I  SOFA  Length_of_stay  Survival  In-hospital_death\n",
       "0       132539       6     1               5        -1                  0\n",
       "1       132540      16     8               8        -1                  0\n",
       "2       132541      21    11              19        -1                  0\n",
       "3       132543       7     1               9       575                  0\n",
       "4       132545      17     2               4       918                  0\n",
       "...        ...     ...   ...             ...       ...                ...\n",
       "7995    152849      21    13               6       752                  0\n",
       "7996    152851      28    14              10        39                  0\n",
       "7997    152858      12     4              19       334                  0\n",
       "7998    152862       5     0              12        -1                  0\n",
       "7999    152864      18     8              14        88                  0\n",
       "\n",
       "[8000 rows x 6 columns]"
      ]
     },
     "execution_count": 111,
     "metadata": {},
     "output_type": "execute_result"
    }
   ],
   "source": [
    "# read target variables\n",
    "\n",
    "#modify this with the name of the paths to read\n",
    "files_outcome_path =  files_outcome_path_names[programmer]\n",
    "df_target_a = pd.read_csv(Path(files_outcome_path) / \"Outcomes-a.txt\")\n",
    "df_target_b = pd.read_csv(Path(files_outcome_path) / \"Outcomes-b.txt\")\n",
    "\n",
    "outcomes_df = pd.concat([df_target_a, df_target_b], ignore_index=True)\n",
    "outcome_columns = outcomes_df.columns.tolist()\n",
    "outcome_columns.remove('RecordID')\n",
    "outcomes_df"
   ]
  },
  {
   "cell_type": "markdown",
   "id": "c58afc03-f2d4-4f4c-a04d-73653e03a116",
   "metadata": {},
   "source": [
    "### 1. Variable reduction\n"
   ]
  },
  {
   "cell_type": "markdown",
   "id": "c6f8c89e-69e2-4f91-b288-ec259205db23",
   "metadata": {},
   "source": [
    "#### 1.1 Clinical judgement"
   ]
  },
  {
   "cell_type": "code",
   "execution_count": 112,
   "id": "f62c03f2-19e9-4f5b-9a7d-7f5948ddb7d1",
   "metadata": {},
   "outputs": [],
   "source": [
    "variables_to_drop_by_clinical_judgement = [\"TropI\", \"Cholesterol\", \"SaO2\", \"RespRate\", \"DiasABP\", \"NIDiasABP\", \"NISysABP\", \"SysABP\"]\n",
    "# Remove variables specified in variables_to_drop_by_clinical_judgement from time_parameters\n",
    "time_parameters = [param for param in time_parameters if param not in variables_to_drop_by_clinical_judgement]\n"
   ]
  },
  {
   "cell_type": "markdown",
   "id": "43e2f941-bd57-4303-b65b-04ced6f16ab8",
   "metadata": {},
   "source": [
    "#### 1.2. Input nan in MechVent with 0"
   ]
  },
  {
   "cell_type": "code",
   "execution_count": 113,
   "id": "dc19ac22-2d72-4297-a101-ad896d00cade",
   "metadata": {},
   "outputs": [],
   "source": [
    "#Load dataset\n",
    "result = pd.read_csv(os.path.join(file_path_to_save, 'result_for_data_cleaning.csv'))\n",
    "# Extract columns from the DataFrame `result`\n",
    "result_columns = result.columns\n",
    "\n",
    "#impute Mech_vent Nan values with 0\n",
    "result['MechVent'] = result['MechVent'].fillna(0)\n",
    "\n",
    "# Filter out columns from result that do not contain any part of the feature names in time_parameters\n",
    "result_filtered = result[[col for col in result.columns if any(feature in col for feature in time_parameters + non_time_parameters + categorical_parameters)]]\n",
    "result = result_filtered"
   ]
  },
  {
   "cell_type": "markdown",
   "id": "616b0636-50e7-4c6d-8741-a9062597b31f",
   "metadata": {},
   "source": [
    "#### 1.2 More than 50% NaN values on the overall mean"
   ]
  },
  {
   "cell_type": "code",
   "execution_count": 114,
   "id": "9f520ffb-6d8d-4242-98f1-f9a168d009e2",
   "metadata": {},
   "outputs": [],
   "source": [
    "# Assuming 'PatientID' is the common identifier, change it to whatever identifier you have\n",
    "merged_df = result.merge(outcomes_df[['RecordID', 'In-hospital_death']], on='RecordID', how='left')"
   ]
  },
  {
   "cell_type": "markdown",
   "id": "aa59ff26-4dac-42df-a915-5e6390e79b0c",
   "metadata": {},
   "source": [
    "<b> Look at the distribution of missing values </b>"
   ]
  },
  {
   "cell_type": "code",
   "execution_count": 115,
   "id": "5eef03d6-4a9b-41d7-bf26-c1ffc8bf9ecd",
   "metadata": {},
   "outputs": [
    {
     "data": {
      "application/vnd.plotly.v1+json": {
       "config": {
        "plotlyServerURL": "https://plot.ly"
       },
       "data": [
        {
         "marker": {
          "color": "blue"
         },
         "type": "bar",
         "x": [
          "Albumin_median",
          "ALP_median",
          "ALT_median",
          "AST_median",
          "Bilirubin_median",
          "BUN_median",
          "Creatinine_median",
          "FiO2_median",
          "GCS_median",
          "Glucose_median",
          "HCO3_median",
          "HCT_median",
          "HR_median",
          "K_median",
          "Lactate_median",
          "Mg_median",
          "MAP_median",
          "Na_median",
          "NIMAP_median",
          "PaCO2_median",
          "PaO2_median",
          "pH_median",
          "Platelets_median",
          "Temp_median",
          "TropT_median",
          "Urine_median",
          "WBC_median",
          "Weight_median",
          "RecordID",
          "Age",
          "Gender",
          "Height",
          "ICUType",
          "MechVent",
          "In-hospital_death"
         ],
         "y": [
          59.425,
          57.7625,
          56.8,
          56.7375,
          56.925000000000004,
          1.5,
          1.5,
          32.2625,
          1.6125,
          2.5125,
          1.7125000000000001,
          1.55,
          1.6,
          2.1125000000000003,
          45.025,
          2.325,
          30.025000000000002,
          1.725,
          12.537499999999998,
          24.5625,
          24.575,
          24.1125,
          1.625,
          1.6125,
          100,
          2.6625,
          1.7375000000000003,
          7.7,
          0,
          0,
          0.1,
          47.8,
          0,
          0,
          0
         ]
        }
       ],
       "layout": {
        "autosize": true,
        "template": {
         "data": {
          "bar": [
           {
            "error_x": {
             "color": "#2a3f5f"
            },
            "error_y": {
             "color": "#2a3f5f"
            },
            "marker": {
             "line": {
              "color": "#E5ECF6",
              "width": 0.5
             },
             "pattern": {
              "fillmode": "overlay",
              "size": 10,
              "solidity": 0.2
             }
            },
            "type": "bar"
           }
          ],
          "barpolar": [
           {
            "marker": {
             "line": {
              "color": "#E5ECF6",
              "width": 0.5
             },
             "pattern": {
              "fillmode": "overlay",
              "size": 10,
              "solidity": 0.2
             }
            },
            "type": "barpolar"
           }
          ],
          "carpet": [
           {
            "aaxis": {
             "endlinecolor": "#2a3f5f",
             "gridcolor": "white",
             "linecolor": "white",
             "minorgridcolor": "white",
             "startlinecolor": "#2a3f5f"
            },
            "baxis": {
             "endlinecolor": "#2a3f5f",
             "gridcolor": "white",
             "linecolor": "white",
             "minorgridcolor": "white",
             "startlinecolor": "#2a3f5f"
            },
            "type": "carpet"
           }
          ],
          "choropleth": [
           {
            "colorbar": {
             "outlinewidth": 0,
             "ticks": ""
            },
            "type": "choropleth"
           }
          ],
          "contour": [
           {
            "colorbar": {
             "outlinewidth": 0,
             "ticks": ""
            },
            "colorscale": [
             [
              0,
              "#0d0887"
             ],
             [
              0.1111111111111111,
              "#46039f"
             ],
             [
              0.2222222222222222,
              "#7201a8"
             ],
             [
              0.3333333333333333,
              "#9c179e"
             ],
             [
              0.4444444444444444,
              "#bd3786"
             ],
             [
              0.5555555555555556,
              "#d8576b"
             ],
             [
              0.6666666666666666,
              "#ed7953"
             ],
             [
              0.7777777777777778,
              "#fb9f3a"
             ],
             [
              0.8888888888888888,
              "#fdca26"
             ],
             [
              1,
              "#f0f921"
             ]
            ],
            "type": "contour"
           }
          ],
          "contourcarpet": [
           {
            "colorbar": {
             "outlinewidth": 0,
             "ticks": ""
            },
            "type": "contourcarpet"
           }
          ],
          "heatmap": [
           {
            "colorbar": {
             "outlinewidth": 0,
             "ticks": ""
            },
            "colorscale": [
             [
              0,
              "#0d0887"
             ],
             [
              0.1111111111111111,
              "#46039f"
             ],
             [
              0.2222222222222222,
              "#7201a8"
             ],
             [
              0.3333333333333333,
              "#9c179e"
             ],
             [
              0.4444444444444444,
              "#bd3786"
             ],
             [
              0.5555555555555556,
              "#d8576b"
             ],
             [
              0.6666666666666666,
              "#ed7953"
             ],
             [
              0.7777777777777778,
              "#fb9f3a"
             ],
             [
              0.8888888888888888,
              "#fdca26"
             ],
             [
              1,
              "#f0f921"
             ]
            ],
            "type": "heatmap"
           }
          ],
          "heatmapgl": [
           {
            "colorbar": {
             "outlinewidth": 0,
             "ticks": ""
            },
            "colorscale": [
             [
              0,
              "#0d0887"
             ],
             [
              0.1111111111111111,
              "#46039f"
             ],
             [
              0.2222222222222222,
              "#7201a8"
             ],
             [
              0.3333333333333333,
              "#9c179e"
             ],
             [
              0.4444444444444444,
              "#bd3786"
             ],
             [
              0.5555555555555556,
              "#d8576b"
             ],
             [
              0.6666666666666666,
              "#ed7953"
             ],
             [
              0.7777777777777778,
              "#fb9f3a"
             ],
             [
              0.8888888888888888,
              "#fdca26"
             ],
             [
              1,
              "#f0f921"
             ]
            ],
            "type": "heatmapgl"
           }
          ],
          "histogram": [
           {
            "marker": {
             "pattern": {
              "fillmode": "overlay",
              "size": 10,
              "solidity": 0.2
             }
            },
            "type": "histogram"
           }
          ],
          "histogram2d": [
           {
            "colorbar": {
             "outlinewidth": 0,
             "ticks": ""
            },
            "colorscale": [
             [
              0,
              "#0d0887"
             ],
             [
              0.1111111111111111,
              "#46039f"
             ],
             [
              0.2222222222222222,
              "#7201a8"
             ],
             [
              0.3333333333333333,
              "#9c179e"
             ],
             [
              0.4444444444444444,
              "#bd3786"
             ],
             [
              0.5555555555555556,
              "#d8576b"
             ],
             [
              0.6666666666666666,
              "#ed7953"
             ],
             [
              0.7777777777777778,
              "#fb9f3a"
             ],
             [
              0.8888888888888888,
              "#fdca26"
             ],
             [
              1,
              "#f0f921"
             ]
            ],
            "type": "histogram2d"
           }
          ],
          "histogram2dcontour": [
           {
            "colorbar": {
             "outlinewidth": 0,
             "ticks": ""
            },
            "colorscale": [
             [
              0,
              "#0d0887"
             ],
             [
              0.1111111111111111,
              "#46039f"
             ],
             [
              0.2222222222222222,
              "#7201a8"
             ],
             [
              0.3333333333333333,
              "#9c179e"
             ],
             [
              0.4444444444444444,
              "#bd3786"
             ],
             [
              0.5555555555555556,
              "#d8576b"
             ],
             [
              0.6666666666666666,
              "#ed7953"
             ],
             [
              0.7777777777777778,
              "#fb9f3a"
             ],
             [
              0.8888888888888888,
              "#fdca26"
             ],
             [
              1,
              "#f0f921"
             ]
            ],
            "type": "histogram2dcontour"
           }
          ],
          "mesh3d": [
           {
            "colorbar": {
             "outlinewidth": 0,
             "ticks": ""
            },
            "type": "mesh3d"
           }
          ],
          "parcoords": [
           {
            "line": {
             "colorbar": {
              "outlinewidth": 0,
              "ticks": ""
             }
            },
            "type": "parcoords"
           }
          ],
          "pie": [
           {
            "automargin": true,
            "type": "pie"
           }
          ],
          "scatter": [
           {
            "fillpattern": {
             "fillmode": "overlay",
             "size": 10,
             "solidity": 0.2
            },
            "type": "scatter"
           }
          ],
          "scatter3d": [
           {
            "line": {
             "colorbar": {
              "outlinewidth": 0,
              "ticks": ""
             }
            },
            "marker": {
             "colorbar": {
              "outlinewidth": 0,
              "ticks": ""
             }
            },
            "type": "scatter3d"
           }
          ],
          "scattercarpet": [
           {
            "marker": {
             "colorbar": {
              "outlinewidth": 0,
              "ticks": ""
             }
            },
            "type": "scattercarpet"
           }
          ],
          "scattergeo": [
           {
            "marker": {
             "colorbar": {
              "outlinewidth": 0,
              "ticks": ""
             }
            },
            "type": "scattergeo"
           }
          ],
          "scattergl": [
           {
            "marker": {
             "colorbar": {
              "outlinewidth": 0,
              "ticks": ""
             }
            },
            "type": "scattergl"
           }
          ],
          "scattermapbox": [
           {
            "marker": {
             "colorbar": {
              "outlinewidth": 0,
              "ticks": ""
             }
            },
            "type": "scattermapbox"
           }
          ],
          "scatterpolar": [
           {
            "marker": {
             "colorbar": {
              "outlinewidth": 0,
              "ticks": ""
             }
            },
            "type": "scatterpolar"
           }
          ],
          "scatterpolargl": [
           {
            "marker": {
             "colorbar": {
              "outlinewidth": 0,
              "ticks": ""
             }
            },
            "type": "scatterpolargl"
           }
          ],
          "scatterternary": [
           {
            "marker": {
             "colorbar": {
              "outlinewidth": 0,
              "ticks": ""
             }
            },
            "type": "scatterternary"
           }
          ],
          "surface": [
           {
            "colorbar": {
             "outlinewidth": 0,
             "ticks": ""
            },
            "colorscale": [
             [
              0,
              "#0d0887"
             ],
             [
              0.1111111111111111,
              "#46039f"
             ],
             [
              0.2222222222222222,
              "#7201a8"
             ],
             [
              0.3333333333333333,
              "#9c179e"
             ],
             [
              0.4444444444444444,
              "#bd3786"
             ],
             [
              0.5555555555555556,
              "#d8576b"
             ],
             [
              0.6666666666666666,
              "#ed7953"
             ],
             [
              0.7777777777777778,
              "#fb9f3a"
             ],
             [
              0.8888888888888888,
              "#fdca26"
             ],
             [
              1,
              "#f0f921"
             ]
            ],
            "type": "surface"
           }
          ],
          "table": [
           {
            "cells": {
             "fill": {
              "color": "#EBF0F8"
             },
             "line": {
              "color": "white"
             }
            },
            "header": {
             "fill": {
              "color": "#C8D4E3"
             },
             "line": {
              "color": "white"
             }
            },
            "type": "table"
           }
          ]
         },
         "layout": {
          "annotationdefaults": {
           "arrowcolor": "#2a3f5f",
           "arrowhead": 0,
           "arrowwidth": 1
          },
          "autotypenumbers": "strict",
          "coloraxis": {
           "colorbar": {
            "outlinewidth": 0,
            "ticks": ""
           }
          },
          "colorscale": {
           "diverging": [
            [
             0,
             "#8e0152"
            ],
            [
             0.1,
             "#c51b7d"
            ],
            [
             0.2,
             "#de77ae"
            ],
            [
             0.3,
             "#f1b6da"
            ],
            [
             0.4,
             "#fde0ef"
            ],
            [
             0.5,
             "#f7f7f7"
            ],
            [
             0.6,
             "#e6f5d0"
            ],
            [
             0.7,
             "#b8e186"
            ],
            [
             0.8,
             "#7fbc41"
            ],
            [
             0.9,
             "#4d9221"
            ],
            [
             1,
             "#276419"
            ]
           ],
           "sequential": [
            [
             0,
             "#0d0887"
            ],
            [
             0.1111111111111111,
             "#46039f"
            ],
            [
             0.2222222222222222,
             "#7201a8"
            ],
            [
             0.3333333333333333,
             "#9c179e"
            ],
            [
             0.4444444444444444,
             "#bd3786"
            ],
            [
             0.5555555555555556,
             "#d8576b"
            ],
            [
             0.6666666666666666,
             "#ed7953"
            ],
            [
             0.7777777777777778,
             "#fb9f3a"
            ],
            [
             0.8888888888888888,
             "#fdca26"
            ],
            [
             1,
             "#f0f921"
            ]
           ],
           "sequentialminus": [
            [
             0,
             "#0d0887"
            ],
            [
             0.1111111111111111,
             "#46039f"
            ],
            [
             0.2222222222222222,
             "#7201a8"
            ],
            [
             0.3333333333333333,
             "#9c179e"
            ],
            [
             0.4444444444444444,
             "#bd3786"
            ],
            [
             0.5555555555555556,
             "#d8576b"
            ],
            [
             0.6666666666666666,
             "#ed7953"
            ],
            [
             0.7777777777777778,
             "#fb9f3a"
            ],
            [
             0.8888888888888888,
             "#fdca26"
            ],
            [
             1,
             "#f0f921"
            ]
           ]
          },
          "colorway": [
           "#636efa",
           "#EF553B",
           "#00cc96",
           "#ab63fa",
           "#FFA15A",
           "#19d3f3",
           "#FF6692",
           "#B6E880",
           "#FF97FF",
           "#FECB52"
          ],
          "font": {
           "color": "#2a3f5f"
          },
          "geo": {
           "bgcolor": "white",
           "lakecolor": "white",
           "landcolor": "#E5ECF6",
           "showlakes": true,
           "showland": true,
           "subunitcolor": "white"
          },
          "hoverlabel": {
           "align": "left"
          },
          "hovermode": "closest",
          "mapbox": {
           "style": "light"
          },
          "paper_bgcolor": "white",
          "plot_bgcolor": "#E5ECF6",
          "polar": {
           "angularaxis": {
            "gridcolor": "white",
            "linecolor": "white",
            "ticks": ""
           },
           "bgcolor": "#E5ECF6",
           "radialaxis": {
            "gridcolor": "white",
            "linecolor": "white",
            "ticks": ""
           }
          },
          "scene": {
           "xaxis": {
            "backgroundcolor": "#E5ECF6",
            "gridcolor": "white",
            "gridwidth": 2,
            "linecolor": "white",
            "showbackground": true,
            "ticks": "",
            "zerolinecolor": "white"
           },
           "yaxis": {
            "backgroundcolor": "#E5ECF6",
            "gridcolor": "white",
            "gridwidth": 2,
            "linecolor": "white",
            "showbackground": true,
            "ticks": "",
            "zerolinecolor": "white"
           },
           "zaxis": {
            "backgroundcolor": "#E5ECF6",
            "gridcolor": "white",
            "gridwidth": 2,
            "linecolor": "white",
            "showbackground": true,
            "ticks": "",
            "zerolinecolor": "white"
           }
          },
          "shapedefaults": {
           "line": {
            "color": "#2a3f5f"
           }
          },
          "ternary": {
           "aaxis": {
            "gridcolor": "white",
            "linecolor": "white",
            "ticks": ""
           },
           "baxis": {
            "gridcolor": "white",
            "linecolor": "white",
            "ticks": ""
           },
           "bgcolor": "#E5ECF6",
           "caxis": {
            "gridcolor": "white",
            "linecolor": "white",
            "ticks": ""
           }
          },
          "title": {
           "x": 0.05
          },
          "xaxis": {
           "automargin": true,
           "gridcolor": "white",
           "linecolor": "white",
           "ticks": "",
           "title": {
            "standoff": 15
           },
           "zerolinecolor": "white",
           "zerolinewidth": 2
          },
          "yaxis": {
           "automargin": true,
           "gridcolor": "white",
           "linecolor": "white",
           "ticks": "",
           "title": {
            "standoff": 15
           },
           "zerolinecolor": "white",
           "zerolinewidth": 2
          }
         }
        },
        "title": {
         "text": "<b>Missing Values Percent in Dataset</b>"
        },
        "xaxis": {
         "autorange": true,
         "range": [
          -0.5,
          34.5
         ],
         "tickangle": -90,
         "tickfont": {
          "size": 8
         },
         "title": {
          "text": "Features"
         },
         "type": "category"
        },
        "yaxis": {
         "autorange": true,
         "range": [
          0,
          105.26315789473685
         ],
         "title": {
          "text": "Percent"
         },
         "type": "linear"
        }
       }
      },
      "image/png": "[encoded data removed]",
      "text/html": [
       "<div>                            <div id=\"909eae67-1e26-43eb-8297-89db2a1d15b7\" class=\"plotly-graph-div\" style=\"height:525px; width:100%;\"></div>            <script type=\"text/javascript\">                require([\"plotly\"], function(Plotly) {                    window.PLOTLYENV=window.PLOTLYENV || {};                                    if (document.getElementById(\"909eae67-1e26-43eb-8297-89db2a1d15b7\")) {                    Plotly.newPlot(                        \"909eae67-1e26-43eb-8297-89db2a1d15b7\",                        [{\"marker\":{\"color\":\"blue\"},\"x\":[\"Albumin_median\",\"ALP_median\",\"ALT_median\",\"AST_median\",\"Bilirubin_median\",\"BUN_median\",\"Creatinine_median\",\"FiO2_median\",\"GCS_median\",\"Glucose_median\",\"HCO3_median\",\"HCT_median\",\"HR_median\",\"K_median\",\"Lactate_median\",\"Mg_median\",\"MAP_median\",\"Na_median\",\"NIMAP_median\",\"PaCO2_median\",\"PaO2_median\",\"pH_median\",\"Platelets_median\",\"Temp_median\",\"TropT_median\",\"Urine_median\",\"WBC_median\",\"Weight_median\",\"RecordID\",\"Age\",\"Gender\",\"Height\",\"ICUType\",\"MechVent\",\"In-hospital_death\"],\"y\":[59.425,57.7625,56.8,56.7375,56.925000000000004,1.5,1.5,32.2625,1.6125,2.5125,1.7125000000000001,1.55,1.6,2.1125000000000003,45.025,2.325,30.025000000000002,1.725,12.537499999999998,24.5625,24.575,24.1125,1.625,1.6125,100.0,2.6625,1.7375000000000003,7.7,0.0,0.0,0.1,47.8,0.0,0.0,0.0],\"type\":\"bar\"}],                        {\"template\":{\"data\":{\"histogram2dcontour\":[{\"type\":\"histogram2dcontour\",\"colorbar\":{\"outlinewidth\":0,\"ticks\":\"\"},\"colorscale\":[[0.0,\"#0d0887\"],[0.1111111111111111,\"#46039f\"],[0.2222222222222222,\"#7201a8\"],[0.3333333333333333,\"#9c179e\"],[0.4444444444444444,\"#bd3786\"],[0.5555555555555556,\"#d8576b\"],[0.6666666666666666,\"#ed7953\"],[0.7777777777777778,\"#fb9f3a\"],[0.8888888888888888,\"#fdca26\"],[1.0,\"#f0f921\"]]}],\"choropleth\":[{\"type\":\"choropleth\",\"colorbar\":{\"outlinewidth\":0,\"ticks\":\"\"}}],\"histogram2d\":[{\"type\":\"histogram2d\",\"colorbar\":{\"outlinewidth\":0,\"ticks\":\"\"},\"colorscale\":[[0.0,\"#0d0887\"],[0.1111111111111111,\"#46039f\"],[0.2222222222222222,\"#7201a8\"],[0.3333333333333333,\"#9c179e\"],[0.4444444444444444,\"#bd3786\"],[0.5555555555555556,\"#d8576b\"],[0.6666666666666666,\"#ed7953\"],[0.7777777777777778,\"#fb9f3a\"],[0.8888888888888888,\"#fdca26\"],[1.0,\"#f0f921\"]]}],\"heatmap\":[{\"type\":\"heatmap\",\"colorbar\":{\"outlinewidth\":0,\"ticks\":\"\"},\"colorscale\":[[0.0,\"#0d0887\"],[0.1111111111111111,\"#46039f\"],[0.2222222222222222,\"#7201a8\"],[0.3333333333333333,\"#9c179e\"],[0.4444444444444444,\"#bd3786\"],[0.5555555555555556,\"#d8576b\"],[0.6666666666666666,\"#ed7953\"],[0.7777777777777778,\"#fb9f3a\"],[0.8888888888888888,\"#fdca26\"],[1.0,\"#f0f921\"]]}],\"heatmapgl\":[{\"type\":\"heatmapgl\",\"colorbar\":{\"outlinewidth\":0,\"ticks\":\"\"},\"colorscale\":[[0.0,\"#0d0887\"],[0.1111111111111111,\"#46039f\"],[0.2222222222222222,\"#7201a8\"],[0.3333333333333333,\"#9c179e\"],[0.4444444444444444,\"#bd3786\"],[0.5555555555555556,\"#d8576b\"],[0.6666666666666666,\"#ed7953\"],[0.7777777777777778,\"#fb9f3a\"],[0.8888888888888888,\"#fdca26\"],[1.0,\"#f0f921\"]]}],\"contourcarpet\":[{\"type\":\"contourcarpet\",\"colorbar\":{\"outlinewidth\":0,\"ticks\":\"\"}}],\"contour\":[{\"type\":\"contour\",\"colorbar\":{\"outlinewidth\":0,\"ticks\":\"\"},\"colorscale\":[[0.0,\"#0d0887\"],[0.1111111111111111,\"#46039f\"],[0.2222222222222222,\"#7201a8\"],[0.3333333333333333,\"#9c179e\"],[0.4444444444444444,\"#bd3786\"],[0.5555555555555556,\"#d8576b\"],[0.6666666666666666,\"#ed7953\"],[0.7777777777777778,\"#fb9f3a\"],[0.8888888888888888,\"#fdca26\"],[1.0,\"#f0f921\"]]}],\"surface\":[{\"type\":\"surface\",\"colorbar\":{\"outlinewidth\":0,\"ticks\":\"\"},\"colorscale\":[[0.0,\"#0d0887\"],[0.1111111111111111,\"#46039f\"],[0.2222222222222222,\"#7201a8\"],[0.3333333333333333,\"#9c179e\"],[0.4444444444444444,\"#bd3786\"],[0.5555555555555556,\"#d8576b\"],[0.6666666666666666,\"#ed7953\"],[0.7777777777777778,\"#fb9f3a\"],[0.8888888888888888,\"#fdca26\"],[1.0,\"#f0f921\"]]}],\"mesh3d\":[{\"type\":\"mesh3d\",\"colorbar\":{\"outlinewidth\":0,\"ticks\":\"\"}}],\"scatter\":[{\"fillpattern\":{\"fillmode\":\"overlay\",\"size\":10,\"solidity\":0.2},\"type\":\"scatter\"}],\"parcoords\":[{\"type\":\"parcoords\",\"line\":{\"colorbar\":{\"outlinewidth\":0,\"ticks\":\"\"}}}],\"scatterpolargl\":[{\"type\":\"scatterpolargl\",\"marker\":{\"colorbar\":{\"outlinewidth\":0,\"ticks\":\"\"}}}],\"bar\":[{\"error_x\":{\"color\":\"#2a3f5f\"},\"error_y\":{\"color\":\"#2a3f5f\"},\"marker\":{\"line\":{\"color\":\"#E5ECF6\",\"width\":0.5},\"pattern\":{\"fillmode\":\"overlay\",\"size\":10,\"solidity\":0.2}},\"type\":\"bar\"}],\"scattergeo\":[{\"type\":\"scattergeo\",\"marker\":{\"colorbar\":{\"outlinewidth\":0,\"ticks\":\"\"}}}],\"scatterpolar\":[{\"type\":\"scatterpolar\",\"marker\":{\"colorbar\":{\"outlinewidth\":0,\"ticks\":\"\"}}}],\"histogram\":[{\"marker\":{\"pattern\":{\"fillmode\":\"overlay\",\"size\":10,\"solidity\":0.2}},\"type\":\"histogram\"}],\"scattergl\":[{\"type\":\"scattergl\",\"marker\":{\"colorbar\":{\"outlinewidth\":0,\"ticks\":\"\"}}}],\"scatter3d\":[{\"type\":\"scatter3d\",\"line\":{\"colorbar\":{\"outlinewidth\":0,\"ticks\":\"\"}},\"marker\":{\"colorbar\":{\"outlinewidth\":0,\"ticks\":\"\"}}}],\"scattermapbox\":[{\"type\":\"scattermapbox\",\"marker\":{\"colorbar\":{\"outlinewidth\":0,\"ticks\":\"\"}}}],\"scatterternary\":[{\"type\":\"scatterternary\",\"marker\":{\"colorbar\":{\"outlinewidth\":0,\"ticks\":\"\"}}}],\"scattercarpet\":[{\"type\":\"scattercarpet\",\"marker\":{\"colorbar\":{\"outlinewidth\":0,\"ticks\":\"\"}}}],\"carpet\":[{\"aaxis\":{\"endlinecolor\":\"#2a3f5f\",\"gridcolor\":\"white\",\"linecolor\":\"white\",\"minorgridcolor\":\"white\",\"startlinecolor\":\"#2a3f5f\"},\"baxis\":{\"endlinecolor\":\"#2a3f5f\",\"gridcolor\":\"white\",\"linecolor\":\"white\",\"minorgridcolor\":\"white\",\"startlinecolor\":\"#2a3f5f\"},\"type\":\"carpet\"}],\"table\":[{\"cells\":{\"fill\":{\"color\":\"#EBF0F8\"},\"line\":{\"color\":\"white\"}},\"header\":{\"fill\":{\"color\":\"#C8D4E3\"},\"line\":{\"color\":\"white\"}},\"type\":\"table\"}],\"barpolar\":[{\"marker\":{\"line\":{\"color\":\"#E5ECF6\",\"width\":0.5},\"pattern\":{\"fillmode\":\"overlay\",\"size\":10,\"solidity\":0.2}},\"type\":\"barpolar\"}],\"pie\":[{\"automargin\":true,\"type\":\"pie\"}]},\"layout\":{\"autotypenumbers\":\"strict\",\"colorway\":[\"#636efa\",\"#EF553B\",\"#00cc96\",\"#ab63fa\",\"#FFA15A\",\"#19d3f3\",\"#FF6692\",\"#B6E880\",\"#FF97FF\",\"#FECB52\"],\"font\":{\"color\":\"#2a3f5f\"},\"hovermode\":\"closest\",\"hoverlabel\":{\"align\":\"left\"},\"paper_bgcolor\":\"white\",\"plot_bgcolor\":\"#E5ECF6\",\"polar\":{\"bgcolor\":\"#E5ECF6\",\"angularaxis\":{\"gridcolor\":\"white\",\"linecolor\":\"white\",\"ticks\":\"\"},\"radialaxis\":{\"gridcolor\":\"white\",\"linecolor\":\"white\",\"ticks\":\"\"}},\"ternary\":{\"bgcolor\":\"#E5ECF6\",\"aaxis\":{\"gridcolor\":\"white\",\"linecolor\":\"white\",\"ticks\":\"\"},\"baxis\":{\"gridcolor\":\"white\",\"linecolor\":\"white\",\"ticks\":\"\"},\"caxis\":{\"gridcolor\":\"white\",\"linecolor\":\"white\",\"ticks\":\"\"}},\"coloraxis\":{\"colorbar\":{\"outlinewidth\":0,\"ticks\":\"\"}},\"colorscale\":{\"sequential\":[[0.0,\"#0d0887\"],[0.1111111111111111,\"#46039f\"],[0.2222222222222222,\"#7201a8\"],[0.3333333333333333,\"#9c179e\"],[0.4444444444444444,\"#bd3786\"],[0.5555555555555556,\"#d8576b\"],[0.6666666666666666,\"#ed7953\"],[0.7777777777777778,\"#fb9f3a\"],[0.8888888888888888,\"#fdca26\"],[1.0,\"#f0f921\"]],\"sequentialminus\":[[0.0,\"#0d0887\"],[0.1111111111111111,\"#46039f\"],[0.2222222222222222,\"#7201a8\"],[0.3333333333333333,\"#9c179e\"],[0.4444444444444444,\"#bd3786\"],[0.5555555555555556,\"#d8576b\"],[0.6666666666666666,\"#ed7953\"],[0.7777777777777778,\"#fb9f3a\"],[0.8888888888888888,\"#fdca26\"],[1.0,\"#f0f921\"]],\"diverging\":[[0,\"#8e0152\"],[0.1,\"#c51b7d\"],[0.2,\"#de77ae\"],[0.3,\"#f1b6da\"],[0.4,\"#fde0ef\"],[0.5,\"#f7f7f7\"],[0.6,\"#e6f5d0\"],[0.7,\"#b8e186\"],[0.8,\"#7fbc41\"],[0.9,\"#4d9221\"],[1,\"#276419\"]]},\"xaxis\":{\"gridcolor\":\"white\",\"linecolor\":\"white\",\"ticks\":\"\",\"title\":{\"standoff\":15},\"zerolinecolor\":\"white\",\"automargin\":true,\"zerolinewidth\":2},\"yaxis\":{\"gridcolor\":\"white\",\"linecolor\":\"white\",\"ticks\":\"\",\"title\":{\"standoff\":15},\"zerolinecolor\":\"white\",\"automargin\":true,\"zerolinewidth\":2},\"scene\":{\"xaxis\":{\"backgroundcolor\":\"#E5ECF6\",\"gridcolor\":\"white\",\"linecolor\":\"white\",\"showbackground\":true,\"ticks\":\"\",\"zerolinecolor\":\"white\",\"gridwidth\":2},\"yaxis\":{\"backgroundcolor\":\"#E5ECF6\",\"gridcolor\":\"white\",\"linecolor\":\"white\",\"showbackground\":true,\"ticks\":\"\",\"zerolinecolor\":\"white\",\"gridwidth\":2},\"zaxis\":{\"backgroundcolor\":\"#E5ECF6\",\"gridcolor\":\"white\",\"linecolor\":\"white\",\"showbackground\":true,\"ticks\":\"\",\"zerolinecolor\":\"white\",\"gridwidth\":2}},\"shapedefaults\":{\"line\":{\"color\":\"#2a3f5f\"}},\"annotationdefaults\":{\"arrowcolor\":\"#2a3f5f\",\"arrowhead\":0,\"arrowwidth\":1},\"geo\":{\"bgcolor\":\"white\",\"landcolor\":\"#E5ECF6\",\"subunitcolor\":\"white\",\"showland\":true,\"showlakes\":true,\"lakecolor\":\"white\"},\"title\":{\"x\":0.05},\"mapbox\":{\"style\":\"light\"}}},\"xaxis\":{\"title\":{\"text\":\"Features\"},\"tickangle\":-90,\"tickfont\":{\"size\":8}},\"title\":{\"text\":\"\\u003cb\\u003eMissing Values Percent in Dataset\\u003c\\u002fb\\u003e\"},\"yaxis\":{\"title\":{\"text\":\"Percent\"}}},                        {\"responsive\": true}                    ).then(function(){\n",
       "                            \n",
       "var gd = document.getElementById('909eae67-1e26-43eb-8297-89db2a1d15b7');\n",
       "var x = new MutationObserver(function (mutations, observer) {{\n",
       "        var display = window.getComputedStyle(gd).display;\n",
       "        if (!display || display === 'none') {{\n",
       "            console.log([gd, 'removed!']);\n",
       "            Plotly.purge(gd);\n",
       "            observer.disconnect();\n",
       "        }}\n",
       "}});\n",
       "\n",
       "// Listen for the removal of the full notebook cells\n",
       "var notebookContainer = gd.closest('#notebook-container');\n",
       "if (notebookContainer) {{\n",
       "    x.observe(notebookContainer, {childList: true});\n",
       "}}\n",
       "\n",
       "// Listen for the clearing of the current output cell\n",
       "var outputEl = gd.closest('.output');\n",
       "if (outputEl) {{\n",
       "    x.observe(outputEl, {childList: true});\n",
       "}}\n",
       "\n",
       "                        })                };                });            </script>        </div>"
      ]
     },
     "metadata": {},
     "output_type": "display_data"
    },
    {
     "data": {
      "application/vnd.plotly.v1+json": {
       "config": {
        "plotlyServerURL": "https://plot.ly"
       },
       "data": [
        {
         "name": "In-hospital_death=0",
         "type": "bar",
         "x": [
          "Albumin_median",
          "ALP_median",
          "ALT_median",
          "AST_median",
          "Bilirubin_median",
          "BUN_median",
          "Creatinine_median",
          "FiO2_median",
          "GCS_median",
          "Glucose_median",
          "HCO3_median",
          "HCT_median",
          "HR_median",
          "K_median",
          "Lactate_median",
          "Mg_median",
          "MAP_median",
          "Na_median",
          "NIMAP_median",
          "PaCO2_median",
          "PaO2_median",
          "pH_median",
          "Platelets_median",
          "Temp_median",
          "TropT_median",
          "Urine_median",
          "WBC_median",
          "Weight_median",
          "RecordID",
          "Age",
          "Gender",
          "Height",
          "ICUType",
          "MechVent",
          "In-hospital_death"
         ],
         "y": [
          61.82029659784821,
          60.250072695551026,
          59.334108752544346,
          59.290491421924976,
          59.479499854608896,
          1.6865367839488226,
          1.6865367839488226,
          34.32683919744112,
          1.6429194533294562,
          2.8060482698458853,
          1.919162547252108,
          1.7446932247746436,
          1.628380343123001,
          2.3407967432393137,
          47.644664146554234,
          2.5734225065425997,
          30.86653096830474,
          1.919162547252108,
          12.750799651061357,
          26.4175632451294,
          26.4175632451294,
          25.90869438790346,
          1.831927886013376,
          1.6429194533294562,
          100,
          2.5734225065425997,
          1.9627798778714745,
          8.15644082582146,
          0,
          0,
          0.10177377144518757,
          47.19395173015412,
          0,
          0,
          0
         ]
        },
        {
         "name": "In-hospital_death=1",
         "type": "bar",
         "x": [
          "Albumin_median",
          "ALP_median",
          "ALT_median",
          "AST_median",
          "Bilirubin_median",
          "BUN_median",
          "Creatinine_median",
          "FiO2_median",
          "GCS_median",
          "Glucose_median",
          "HCO3_median",
          "HCT_median",
          "HR_median",
          "K_median",
          "Lactate_median",
          "Mg_median",
          "MAP_median",
          "Na_median",
          "NIMAP_median",
          "PaCO2_median",
          "PaO2_median",
          "pH_median",
          "Platelets_median",
          "Temp_median",
          "TropT_median",
          "Urine_median",
          "WBC_median",
          "Weight_median",
          "RecordID",
          "Age",
          "Gender",
          "Height",
          "ICUType",
          "MechVent",
          "In-hospital_death"
         ],
         "y": [
          44.741532976827095,
          42.513368983957214,
          41.26559714795009,
          41.0873440285205,
          41.26559714795009,
          0.35650623885918004,
          0.35650623885918004,
          19.607843137254903,
          1.4260249554367201,
          0.7130124777183601,
          0.4456327985739751,
          0.35650623885918004,
          1.4260249554367201,
          0.7130124777183601,
          28.96613190730838,
          0.8021390374331552,
          24.86631016042781,
          0.53475935828877,
          11.229946524064172,
          13.19073083778966,
          13.279857397504458,
          13.101604278074866,
          0.35650623885918004,
          1.4260249554367201,
          100,
          3.2085561497326207,
          0.35650623885918004,
          4.901960784313726,
          0,
          0,
          0.08912655971479501,
          51.515151515151516,
          0,
          0,
          0
         ]
        }
       ],
       "layout": {
        "autosize": true,
        "barmode": "group",
        "template": {
         "data": {
          "bar": [
           {
            "error_x": {
             "color": "#2a3f5f"
            },
            "error_y": {
             "color": "#2a3f5f"
            },
            "marker": {
             "line": {
              "color": "#E5ECF6",
              "width": 0.5
             },
             "pattern": {
              "fillmode": "overlay",
              "size": 10,
              "solidity": 0.2
             }
            },
            "type": "bar"
           }
          ],
          "barpolar": [
           {
            "marker": {
             "line": {
              "color": "#E5ECF6",
              "width": 0.5
             },
             "pattern": {
              "fillmode": "overlay",
              "size": 10,
              "solidity": 0.2
             }
            },
            "type": "barpolar"
           }
          ],
          "carpet": [
           {
            "aaxis": {
             "endlinecolor": "#2a3f5f",
             "gridcolor": "white",
             "linecolor": "white",
             "minorgridcolor": "white",
             "startlinecolor": "#2a3f5f"
            },
            "baxis": {
             "endlinecolor": "#2a3f5f",
             "gridcolor": "white",
             "linecolor": "white",
             "minorgridcolor": "white",
             "startlinecolor": "#2a3f5f"
            },
            "type": "carpet"
           }
          ],
          "choropleth": [
           {
            "colorbar": {
             "outlinewidth": 0,
             "ticks": ""
            },
            "type": "choropleth"
           }
          ],
          "contour": [
           {
            "colorbar": {
             "outlinewidth": 0,
             "ticks": ""
            },
            "colorscale": [
             [
              0,
              "#0d0887"
             ],
             [
              0.1111111111111111,
              "#46039f"
             ],
             [
              0.2222222222222222,
              "#7201a8"
             ],
             [
              0.3333333333333333,
              "#9c179e"
             ],
             [
              0.4444444444444444,
              "#bd3786"
             ],
             [
              0.5555555555555556,
              "#d8576b"
             ],
             [
              0.6666666666666666,
              "#ed7953"
             ],
             [
              0.7777777777777778,
              "#fb9f3a"
             ],
             [
              0.8888888888888888,
              "#fdca26"
             ],
             [
              1,
              "#f0f921"
             ]
            ],
            "type": "contour"
           }
          ],
          "contourcarpet": [
           {
            "colorbar": {
             "outlinewidth": 0,
             "ticks": ""
            },
            "type": "contourcarpet"
           }
          ],
          "heatmap": [
           {
            "colorbar": {
             "outlinewidth": 0,
             "ticks": ""
            },
            "colorscale": [
             [
              0,
              "#0d0887"
             ],
             [
              0.1111111111111111,
              "#46039f"
             ],
             [
              0.2222222222222222,
              "#7201a8"
             ],
             [
              0.3333333333333333,
              "#9c179e"
             ],
             [
              0.4444444444444444,
              "#bd3786"
             ],
             [
              0.5555555555555556,
              "#d8576b"
             ],
             [
              0.6666666666666666,
              "#ed7953"
             ],
             [
              0.7777777777777778,
              "#fb9f3a"
             ],
             [
              0.8888888888888888,
              "#fdca26"
             ],
             [
              1,
              "#f0f921"
             ]
            ],
            "type": "heatmap"
           }
          ],
          "heatmapgl": [
           {
            "colorbar": {
             "outlinewidth": 0,
             "ticks": ""
            },
            "colorscale": [
             [
              0,
              "#0d0887"
             ],
             [
              0.1111111111111111,
              "#46039f"
             ],
             [
              0.2222222222222222,
              "#7201a8"
             ],
             [
              0.3333333333333333,
              "#9c179e"
             ],
             [
              0.4444444444444444,
              "#bd3786"
             ],
             [
              0.5555555555555556,
              "#d8576b"
             ],
             [
              0.6666666666666666,
              "#ed7953"
             ],
             [
              0.7777777777777778,
              "#fb9f3a"
             ],
             [
              0.8888888888888888,
              "#fdca26"
             ],
             [
              1,
              "#f0f921"
             ]
            ],
            "type": "heatmapgl"
           }
          ],
          "histogram": [
           {
            "marker": {
             "pattern": {
              "fillmode": "overlay",
              "size": 10,
              "solidity": 0.2
             }
            },
            "type": "histogram"
           }
          ],
          "histogram2d": [
           {
            "colorbar": {
             "outlinewidth": 0,
             "ticks": ""
            },
            "colorscale": [
             [
              0,
              "#0d0887"
             ],
             [
              0.1111111111111111,
              "#46039f"
             ],
             [
              0.2222222222222222,
              "#7201a8"
             ],
             [
              0.3333333333333333,
              "#9c179e"
             ],
             [
              0.4444444444444444,
              "#bd3786"
             ],
             [
              0.5555555555555556,
              "#d8576b"
             ],
             [
              0.6666666666666666,
              "#ed7953"
             ],
             [
              0.7777777777777778,
              "#fb9f3a"
             ],
             [
              0.8888888888888888,
              "#fdca26"
             ],
             [
              1,
              "#f0f921"
             ]
            ],
            "type": "histogram2d"
           }
          ],
          "histogram2dcontour": [
           {
            "colorbar": {
             "outlinewidth": 0,
             "ticks": ""
            },
            "colorscale": [
             [
              0,
              "#0d0887"
             ],
             [
              0.1111111111111111,
              "#46039f"
             ],
             [
              0.2222222222222222,
              "#7201a8"
             ],
             [
              0.3333333333333333,
              "#9c179e"
             ],
             [
              0.4444444444444444,
              "#bd3786"
             ],
             [
              0.5555555555555556,
              "#d8576b"
             ],
             [
              0.6666666666666666,
              "#ed7953"
             ],
             [
              0.7777777777777778,
              "#fb9f3a"
             ],
             [
              0.8888888888888888,
              "#fdca26"
             ],
             [
              1,
              "#f0f921"
             ]
            ],
            "type": "histogram2dcontour"
           }
          ],
          "mesh3d": [
           {
            "colorbar": {
             "outlinewidth": 0,
             "ticks": ""
            },
            "type": "mesh3d"
           }
          ],
          "parcoords": [
           {
            "line": {
             "colorbar": {
              "outlinewidth": 0,
              "ticks": ""
             }
            },
            "type": "parcoords"
           }
          ],
          "pie": [
           {
            "automargin": true,
            "type": "pie"
           }
          ],
          "scatter": [
           {
            "fillpattern": {
             "fillmode": "overlay",
             "size": 10,
             "solidity": 0.2
            },
            "type": "scatter"
           }
          ],
          "scatter3d": [
           {
            "line": {
             "colorbar": {
              "outlinewidth": 0,
              "ticks": ""
             }
            },
            "marker": {
             "colorbar": {
              "outlinewidth": 0,
              "ticks": ""
             }
            },
            "type": "scatter3d"
           }
          ],
          "scattercarpet": [
           {
            "marker": {
             "colorbar": {
              "outlinewidth": 0,
              "ticks": ""
             }
            },
            "type": "scattercarpet"
           }
          ],
          "scattergeo": [
           {
            "marker": {
             "colorbar": {
              "outlinewidth": 0,
              "ticks": ""
             }
            },
            "type": "scattergeo"
           }
          ],
          "scattergl": [
           {
            "marker": {
             "colorbar": {
              "outlinewidth": 0,
              "ticks": ""
             }
            },
            "type": "scattergl"
           }
          ],
          "scattermapbox": [
           {
            "marker": {
             "colorbar": {
              "outlinewidth": 0,
              "ticks": ""
             }
            },
            "type": "scattermapbox"
           }
          ],
          "scatterpolar": [
           {
            "marker": {
             "colorbar": {
              "outlinewidth": 0,
              "ticks": ""
             }
            },
            "type": "scatterpolar"
           }
          ],
          "scatterpolargl": [
           {
            "marker": {
             "colorbar": {
              "outlinewidth": 0,
              "ticks": ""
             }
            },
            "type": "scatterpolargl"
           }
          ],
          "scatterternary": [
           {
            "marker": {
             "colorbar": {
              "outlinewidth": 0,
              "ticks": ""
             }
            },
            "type": "scatterternary"
           }
          ],
          "surface": [
           {
            "colorbar": {
             "outlinewidth": 0,
             "ticks": ""
            },
            "colorscale": [
             [
              0,
              "#0d0887"
             ],
             [
              0.1111111111111111,
              "#46039f"
             ],
             [
              0.2222222222222222,
              "#7201a8"
             ],
             [
              0.3333333333333333,
              "#9c179e"
             ],
             [
              0.4444444444444444,
              "#bd3786"
             ],
             [
              0.5555555555555556,
              "#d8576b"
             ],
             [
              0.6666666666666666,
              "#ed7953"
             ],
             [
              0.7777777777777778,
              "#fb9f3a"
             ],
             [
              0.8888888888888888,
              "#fdca26"
             ],
             [
              1,
              "#f0f921"
             ]
            ],
            "type": "surface"
           }
          ],
          "table": [
           {
            "cells": {
             "fill": {
              "color": "#EBF0F8"
             },
             "line": {
              "color": "white"
             }
            },
            "header": {
             "fill": {
              "color": "#C8D4E3"
             },
             "line": {
              "color": "white"
             }
            },
            "type": "table"
           }
          ]
         },
         "layout": {
          "annotationdefaults": {
           "arrowcolor": "#2a3f5f",
           "arrowhead": 0,
           "arrowwidth": 1
          },
          "autotypenumbers": "strict",
          "coloraxis": {
           "colorbar": {
            "outlinewidth": 0,
            "ticks": ""
           }
          },
          "colorscale": {
           "diverging": [
            [
             0,
             "#8e0152"
            ],
            [
             0.1,
             "#c51b7d"
            ],
            [
             0.2,
             "#de77ae"
            ],
            [
             0.3,
             "#f1b6da"
            ],
            [
             0.4,
             "#fde0ef"
            ],
            [
             0.5,
             "#f7f7f7"
            ],
            [
             0.6,
             "#e6f5d0"
            ],
            [
             0.7,
             "#b8e186"
            ],
            [
             0.8,
             "#7fbc41"
            ],
            [
             0.9,
             "#4d9221"
            ],
            [
             1,
             "#276419"
            ]
           ],
           "sequential": [
            [
             0,
             "#0d0887"
            ],
            [
             0.1111111111111111,
             "#46039f"
            ],
            [
             0.2222222222222222,
             "#7201a8"
            ],
            [
             0.3333333333333333,
             "#9c179e"
            ],
            [
             0.4444444444444444,
             "#bd3786"
            ],
            [
             0.5555555555555556,
             "#d8576b"
            ],
            [
             0.6666666666666666,
             "#ed7953"
            ],
            [
             0.7777777777777778,
             "#fb9f3a"
            ],
            [
             0.8888888888888888,
             "#fdca26"
            ],
            [
             1,
             "#f0f921"
            ]
           ],
           "sequentialminus": [
            [
             0,
             "#0d0887"
            ],
            [
             0.1111111111111111,
             "#46039f"
            ],
            [
             0.2222222222222222,
             "#7201a8"
            ],
            [
             0.3333333333333333,
             "#9c179e"
            ],
            [
             0.4444444444444444,
             "#bd3786"
            ],
            [
             0.5555555555555556,
             "#d8576b"
            ],
            [
             0.6666666666666666,
             "#ed7953"
            ],
            [
             0.7777777777777778,
             "#fb9f3a"
            ],
            [
             0.8888888888888888,
             "#fdca26"
            ],
            [
             1,
             "#f0f921"
            ]
           ]
          },
          "colorway": [
           "#636efa",
           "#EF553B",
           "#00cc96",
           "#ab63fa",
           "#FFA15A",
           "#19d3f3",
           "#FF6692",
           "#B6E880",
           "#FF97FF",
           "#FECB52"
          ],
          "font": {
           "color": "#2a3f5f"
          },
          "geo": {
           "bgcolor": "white",
           "lakecolor": "white",
           "landcolor": "#E5ECF6",
           "showlakes": true,
           "showland": true,
           "subunitcolor": "white"
          },
          "hoverlabel": {
           "align": "left"
          },
          "hovermode": "closest",
          "mapbox": {
           "style": "light"
          },
          "paper_bgcolor": "white",
          "plot_bgcolor": "#E5ECF6",
          "polar": {
           "angularaxis": {
            "gridcolor": "white",
            "linecolor": "white",
            "ticks": ""
           },
           "bgcolor": "#E5ECF6",
           "radialaxis": {
            "gridcolor": "white",
            "linecolor": "white",
            "ticks": ""
           }
          },
          "scene": {
           "xaxis": {
            "backgroundcolor": "#E5ECF6",
            "gridcolor": "white",
            "gridwidth": 2,
            "linecolor": "white",
            "showbackground": true,
            "ticks": "",
            "zerolinecolor": "white"
           },
           "yaxis": {
            "backgroundcolor": "#E5ECF6",
            "gridcolor": "white",
            "gridwidth": 2,
            "linecolor": "white",
            "showbackground": true,
            "ticks": "",
            "zerolinecolor": "white"
           },
           "zaxis": {
            "backgroundcolor": "#E5ECF6",
            "gridcolor": "white",
            "gridwidth": 2,
            "linecolor": "white",
            "showbackground": true,
            "ticks": "",
            "zerolinecolor": "white"
           }
          },
          "shapedefaults": {
           "line": {
            "color": "#2a3f5f"
           }
          },
          "ternary": {
           "aaxis": {
            "gridcolor": "white",
            "linecolor": "white",
            "ticks": ""
           },
           "baxis": {
            "gridcolor": "white",
            "linecolor": "white",
            "ticks": ""
           },
           "bgcolor": "#E5ECF6",
           "caxis": {
            "gridcolor": "white",
            "linecolor": "white",
            "ticks": ""
           }
          },
          "title": {
           "x": 0.05
          },
          "xaxis": {
           "automargin": true,
           "gridcolor": "white",
           "linecolor": "white",
           "ticks": "",
           "title": {
            "standoff": 15
           },
           "zerolinecolor": "white",
           "zerolinewidth": 2
          },
          "yaxis": {
           "automargin": true,
           "gridcolor": "white",
           "linecolor": "white",
           "ticks": "",
           "title": {
            "standoff": 15
           },
           "zerolinecolor": "white",
           "zerolinewidth": 2
          }
         }
        },
        "title": {
         "text": "<b>Missing Values Percent by In-hospital_death</b>"
        },
        "xaxis": {
         "autorange": true,
         "range": [
          -0.5,
          34.5
         ],
         "tickangle": -90,
         "tickfont": {
          "size": 8
         },
         "title": {
          "text": "Features"
         },
         "type": "category"
        },
        "yaxis": {
         "autorange": true,
         "range": [
          0,
          105.26315789473685
         ],
         "title": {
          "text": "Percent"
         },
         "type": "linear"
        }
       }
      },
      "image/png": "[encoded data removed]",
      "text/html": [
       "<div>                            <div id=\"9e5d132c-b143-4f1e-b2c9-198a0093b678\" class=\"plotly-graph-div\" style=\"height:525px; width:100%;\"></div>            <script type=\"text/javascript\">                require([\"plotly\"], function(Plotly) {                    window.PLOTLYENV=window.PLOTLYENV || {};                                    if (document.getElementById(\"9e5d132c-b143-4f1e-b2c9-198a0093b678\")) {                    Plotly.newPlot(                        \"9e5d132c-b143-4f1e-b2c9-198a0093b678\",                        [{\"name\":\"In-hospital_death=0\",\"x\":[\"Albumin_median\",\"ALP_median\",\"ALT_median\",\"AST_median\",\"Bilirubin_median\",\"BUN_median\",\"Creatinine_median\",\"FiO2_median\",\"GCS_median\",\"Glucose_median\",\"HCO3_median\",\"HCT_median\",\"HR_median\",\"K_median\",\"Lactate_median\",\"Mg_median\",\"MAP_median\",\"Na_median\",\"NIMAP_median\",\"PaCO2_median\",\"PaO2_median\",\"pH_median\",\"Platelets_median\",\"Temp_median\",\"TropT_median\",\"Urine_median\",\"WBC_median\",\"Weight_median\",\"RecordID\",\"Age\",\"Gender\",\"Height\",\"ICUType\",\"MechVent\",\"In-hospital_death\"],\"y\":[61.82029659784821,60.250072695551026,59.334108752544346,59.290491421924976,59.479499854608896,1.6865367839488226,1.6865367839488226,34.32683919744112,1.6429194533294562,2.8060482698458853,1.919162547252108,1.7446932247746436,1.628380343123001,2.3407967432393137,47.644664146554234,2.5734225065425997,30.86653096830474,1.919162547252108,12.750799651061357,26.4175632451294,26.4175632451294,25.90869438790346,1.831927886013376,1.6429194533294562,100.0,2.5734225065425997,1.9627798778714745,8.15644082582146,0.0,0.0,0.10177377144518757,47.19395173015412,0.0,0.0,0.0],\"type\":\"bar\"},{\"name\":\"In-hospital_death=1\",\"x\":[\"Albumin_median\",\"ALP_median\",\"ALT_median\",\"AST_median\",\"Bilirubin_median\",\"BUN_median\",\"Creatinine_median\",\"FiO2_median\",\"GCS_median\",\"Glucose_median\",\"HCO3_median\",\"HCT_median\",\"HR_median\",\"K_median\",\"Lactate_median\",\"Mg_median\",\"MAP_median\",\"Na_median\",\"NIMAP_median\",\"PaCO2_median\",\"PaO2_median\",\"pH_median\",\"Platelets_median\",\"Temp_median\",\"TropT_median\",\"Urine_median\",\"WBC_median\",\"Weight_median\",\"RecordID\",\"Age\",\"Gender\",\"Height\",\"ICUType\",\"MechVent\",\"In-hospital_death\"],\"y\":[44.741532976827095,42.513368983957214,41.26559714795009,41.0873440285205,41.26559714795009,0.35650623885918004,0.35650623885918004,19.607843137254903,1.4260249554367201,0.7130124777183601,0.4456327985739751,0.35650623885918004,1.4260249554367201,0.7130124777183601,28.96613190730838,0.8021390374331552,24.86631016042781,0.53475935828877,11.229946524064172,13.19073083778966,13.279857397504458,13.101604278074866,0.35650623885918004,1.4260249554367201,100.0,3.2085561497326207,0.35650623885918004,4.901960784313726,0.0,0.0,0.08912655971479501,51.515151515151516,0.0,0.0,0.0],\"type\":\"bar\"}],                        {\"template\":{\"data\":{\"histogram2dcontour\":[{\"type\":\"histogram2dcontour\",\"colorbar\":{\"outlinewidth\":0,\"ticks\":\"\"},\"colorscale\":[[0.0,\"#0d0887\"],[0.1111111111111111,\"#46039f\"],[0.2222222222222222,\"#7201a8\"],[0.3333333333333333,\"#9c179e\"],[0.4444444444444444,\"#bd3786\"],[0.5555555555555556,\"#d8576b\"],[0.6666666666666666,\"#ed7953\"],[0.7777777777777778,\"#fb9f3a\"],[0.8888888888888888,\"#fdca26\"],[1.0,\"#f0f921\"]]}],\"choropleth\":[{\"type\":\"choropleth\",\"colorbar\":{\"outlinewidth\":0,\"ticks\":\"\"}}],\"histogram2d\":[{\"type\":\"histogram2d\",\"colorbar\":{\"outlinewidth\":0,\"ticks\":\"\"},\"colorscale\":[[0.0,\"#0d0887\"],[0.1111111111111111,\"#46039f\"],[0.2222222222222222,\"#7201a8\"],[0.3333333333333333,\"#9c179e\"],[0.4444444444444444,\"#bd3786\"],[0.5555555555555556,\"#d8576b\"],[0.6666666666666666,\"#ed7953\"],[0.7777777777777778,\"#fb9f3a\"],[0.8888888888888888,\"#fdca26\"],[1.0,\"#f0f921\"]]}],\"heatmap\":[{\"type\":\"heatmap\",\"colorbar\":{\"outlinewidth\":0,\"ticks\":\"\"},\"colorscale\":[[0.0,\"#0d0887\"],[0.1111111111111111,\"#46039f\"],[0.2222222222222222,\"#7201a8\"],[0.3333333333333333,\"#9c179e\"],[0.4444444444444444,\"#bd3786\"],[0.5555555555555556,\"#d8576b\"],[0.6666666666666666,\"#ed7953\"],[0.7777777777777778,\"#fb9f3a\"],[0.8888888888888888,\"#fdca26\"],[1.0,\"#f0f921\"]]}],\"heatmapgl\":[{\"type\":\"heatmapgl\",\"colorbar\":{\"outlinewidth\":0,\"ticks\":\"\"},\"colorscale\":[[0.0,\"#0d0887\"],[0.1111111111111111,\"#46039f\"],[0.2222222222222222,\"#7201a8\"],[0.3333333333333333,\"#9c179e\"],[0.4444444444444444,\"#bd3786\"],[0.5555555555555556,\"#d8576b\"],[0.6666666666666666,\"#ed7953\"],[0.7777777777777778,\"#fb9f3a\"],[0.8888888888888888,\"#fdca26\"],[1.0,\"#f0f921\"]]}],\"contourcarpet\":[{\"type\":\"contourcarpet\",\"colorbar\":{\"outlinewidth\":0,\"ticks\":\"\"}}],\"contour\":[{\"type\":\"contour\",\"colorbar\":{\"outlinewidth\":0,\"ticks\":\"\"},\"colorscale\":[[0.0,\"#0d0887\"],[0.1111111111111111,\"#46039f\"],[0.2222222222222222,\"#7201a8\"],[0.3333333333333333,\"#9c179e\"],[0.4444444444444444,\"#bd3786\"],[0.5555555555555556,\"#d8576b\"],[0.6666666666666666,\"#ed7953\"],[0.7777777777777778,\"#fb9f3a\"],[0.8888888888888888,\"#fdca26\"],[1.0,\"#f0f921\"]]}],\"surface\":[{\"type\":\"surface\",\"colorbar\":{\"outlinewidth\":0,\"ticks\":\"\"},\"colorscale\":[[0.0,\"#0d0887\"],[0.1111111111111111,\"#46039f\"],[0.2222222222222222,\"#7201a8\"],[0.3333333333333333,\"#9c179e\"],[0.4444444444444444,\"#bd3786\"],[0.5555555555555556,\"#d8576b\"],[0.6666666666666666,\"#ed7953\"],[0.7777777777777778,\"#fb9f3a\"],[0.8888888888888888,\"#fdca26\"],[1.0,\"#f0f921\"]]}],\"mesh3d\":[{\"type\":\"mesh3d\",\"colorbar\":{\"outlinewidth\":0,\"ticks\":\"\"}}],\"scatter\":[{\"fillpattern\":{\"fillmode\":\"overlay\",\"size\":10,\"solidity\":0.2},\"type\":\"scatter\"}],\"parcoords\":[{\"type\":\"parcoords\",\"line\":{\"colorbar\":{\"outlinewidth\":0,\"ticks\":\"\"}}}],\"scatterpolargl\":[{\"type\":\"scatterpolargl\",\"marker\":{\"colorbar\":{\"outlinewidth\":0,\"ticks\":\"\"}}}],\"bar\":[{\"error_x\":{\"color\":\"#2a3f5f\"},\"error_y\":{\"color\":\"#2a3f5f\"},\"marker\":{\"line\":{\"color\":\"#E5ECF6\",\"width\":0.5},\"pattern\":{\"fillmode\":\"overlay\",\"size\":10,\"solidity\":0.2}},\"type\":\"bar\"}],\"scattergeo\":[{\"type\":\"scattergeo\",\"marker\":{\"colorbar\":{\"outlinewidth\":0,\"ticks\":\"\"}}}],\"scatterpolar\":[{\"type\":\"scatterpolar\",\"marker\":{\"colorbar\":{\"outlinewidth\":0,\"ticks\":\"\"}}}],\"histogram\":[{\"marker\":{\"pattern\":{\"fillmode\":\"overlay\",\"size\":10,\"solidity\":0.2}},\"type\":\"histogram\"}],\"scattergl\":[{\"type\":\"scattergl\",\"marker\":{\"colorbar\":{\"outlinewidth\":0,\"ticks\":\"\"}}}],\"scatter3d\":[{\"type\":\"scatter3d\",\"line\":{\"colorbar\":{\"outlinewidth\":0,\"ticks\":\"\"}},\"marker\":{\"colorbar\":{\"outlinewidth\":0,\"ticks\":\"\"}}}],\"scattermapbox\":[{\"type\":\"scattermapbox\",\"marker\":{\"colorbar\":{\"outlinewidth\":0,\"ticks\":\"\"}}}],\"scatterternary\":[{\"type\":\"scatterternary\",\"marker\":{\"colorbar\":{\"outlinewidth\":0,\"ticks\":\"\"}}}],\"scattercarpet\":[{\"type\":\"scattercarpet\",\"marker\":{\"colorbar\":{\"outlinewidth\":0,\"ticks\":\"\"}}}],\"carpet\":[{\"aaxis\":{\"endlinecolor\":\"#2a3f5f\",\"gridcolor\":\"white\",\"linecolor\":\"white\",\"minorgridcolor\":\"white\",\"startlinecolor\":\"#2a3f5f\"},\"baxis\":{\"endlinecolor\":\"#2a3f5f\",\"gridcolor\":\"white\",\"linecolor\":\"white\",\"minorgridcolor\":\"white\",\"startlinecolor\":\"#2a3f5f\"},\"type\":\"carpet\"}],\"table\":[{\"cells\":{\"fill\":{\"color\":\"#EBF0F8\"},\"line\":{\"color\":\"white\"}},\"header\":{\"fill\":{\"color\":\"#C8D4E3\"},\"line\":{\"color\":\"white\"}},\"type\":\"table\"}],\"barpolar\":[{\"marker\":{\"line\":{\"color\":\"#E5ECF6\",\"width\":0.5},\"pattern\":{\"fillmode\":\"overlay\",\"size\":10,\"solidity\":0.2}},\"type\":\"barpolar\"}],\"pie\":[{\"automargin\":true,\"type\":\"pie\"}]},\"layout\":{\"autotypenumbers\":\"strict\",\"colorway\":[\"#636efa\",\"#EF553B\",\"#00cc96\",\"#ab63fa\",\"#FFA15A\",\"#19d3f3\",\"#FF6692\",\"#B6E880\",\"#FF97FF\",\"#FECB52\"],\"font\":{\"color\":\"#2a3f5f\"},\"hovermode\":\"closest\",\"hoverlabel\":{\"align\":\"left\"},\"paper_bgcolor\":\"white\",\"plot_bgcolor\":\"#E5ECF6\",\"polar\":{\"bgcolor\":\"#E5ECF6\",\"angularaxis\":{\"gridcolor\":\"white\",\"linecolor\":\"white\",\"ticks\":\"\"},\"radialaxis\":{\"gridcolor\":\"white\",\"linecolor\":\"white\",\"ticks\":\"\"}},\"ternary\":{\"bgcolor\":\"#E5ECF6\",\"aaxis\":{\"gridcolor\":\"white\",\"linecolor\":\"white\",\"ticks\":\"\"},\"baxis\":{\"gridcolor\":\"white\",\"linecolor\":\"white\",\"ticks\":\"\"},\"caxis\":{\"gridcolor\":\"white\",\"linecolor\":\"white\",\"ticks\":\"\"}},\"coloraxis\":{\"colorbar\":{\"outlinewidth\":0,\"ticks\":\"\"}},\"colorscale\":{\"sequential\":[[0.0,\"#0d0887\"],[0.1111111111111111,\"#46039f\"],[0.2222222222222222,\"#7201a8\"],[0.3333333333333333,\"#9c179e\"],[0.4444444444444444,\"#bd3786\"],[0.5555555555555556,\"#d8576b\"],[0.6666666666666666,\"#ed7953\"],[0.7777777777777778,\"#fb9f3a\"],[0.8888888888888888,\"#fdca26\"],[1.0,\"#f0f921\"]],\"sequentialminus\":[[0.0,\"#0d0887\"],[0.1111111111111111,\"#46039f\"],[0.2222222222222222,\"#7201a8\"],[0.3333333333333333,\"#9c179e\"],[0.4444444444444444,\"#bd3786\"],[0.5555555555555556,\"#d8576b\"],[0.6666666666666666,\"#ed7953\"],[0.7777777777777778,\"#fb9f3a\"],[0.8888888888888888,\"#fdca26\"],[1.0,\"#f0f921\"]],\"diverging\":[[0,\"#8e0152\"],[0.1,\"#c51b7d\"],[0.2,\"#de77ae\"],[0.3,\"#f1b6da\"],[0.4,\"#fde0ef\"],[0.5,\"#f7f7f7\"],[0.6,\"#e6f5d0\"],[0.7,\"#b8e186\"],[0.8,\"#7fbc41\"],[0.9,\"#4d9221\"],[1,\"#276419\"]]},\"xaxis\":{\"gridcolor\":\"white\",\"linecolor\":\"white\",\"ticks\":\"\",\"title\":{\"standoff\":15},\"zerolinecolor\":\"white\",\"automargin\":true,\"zerolinewidth\":2},\"yaxis\":{\"gridcolor\":\"white\",\"linecolor\":\"white\",\"ticks\":\"\",\"title\":{\"standoff\":15},\"zerolinecolor\":\"white\",\"automargin\":true,\"zerolinewidth\":2},\"scene\":{\"xaxis\":{\"backgroundcolor\":\"#E5ECF6\",\"gridcolor\":\"white\",\"linecolor\":\"white\",\"showbackground\":true,\"ticks\":\"\",\"zerolinecolor\":\"white\",\"gridwidth\":2},\"yaxis\":{\"backgroundcolor\":\"#E5ECF6\",\"gridcolor\":\"white\",\"linecolor\":\"white\",\"showbackground\":true,\"ticks\":\"\",\"zerolinecolor\":\"white\",\"gridwidth\":2},\"zaxis\":{\"backgroundcolor\":\"#E5ECF6\",\"gridcolor\":\"white\",\"linecolor\":\"white\",\"showbackground\":true,\"ticks\":\"\",\"zerolinecolor\":\"white\",\"gridwidth\":2}},\"shapedefaults\":{\"line\":{\"color\":\"#2a3f5f\"}},\"annotationdefaults\":{\"arrowcolor\":\"#2a3f5f\",\"arrowhead\":0,\"arrowwidth\":1},\"geo\":{\"bgcolor\":\"white\",\"landcolor\":\"#E5ECF6\",\"subunitcolor\":\"white\",\"showland\":true,\"showlakes\":true,\"lakecolor\":\"white\"},\"title\":{\"x\":0.05},\"mapbox\":{\"style\":\"light\"}}},\"xaxis\":{\"title\":{\"text\":\"Features\"},\"tickangle\":-90,\"tickfont\":{\"size\":8}},\"title\":{\"text\":\"\\u003cb\\u003eMissing Values Percent by In-hospital_death\\u003c\\u002fb\\u003e\"},\"yaxis\":{\"title\":{\"text\":\"Percent\"}},\"barmode\":\"group\"},                        {\"responsive\": true}                    ).then(function(){\n",
       "                            \n",
       "var gd = document.getElementById('9e5d132c-b143-4f1e-b2c9-198a0093b678');\n",
       "var x = new MutationObserver(function (mutations, observer) {{\n",
       "        var display = window.getComputedStyle(gd).display;\n",
       "        if (!display || display === 'none') {{\n",
       "            console.log([gd, 'removed!']);\n",
       "            Plotly.purge(gd);\n",
       "            observer.disconnect();\n",
       "        }}\n",
       "}});\n",
       "\n",
       "// Listen for the removal of the full notebook cells\n",
       "var notebookContainer = gd.closest('#notebook-container');\n",
       "if (notebookContainer) {{\n",
       "    x.observe(notebookContainer, {childList: true});\n",
       "}}\n",
       "\n",
       "// Listen for the clearing of the current output cell\n",
       "var outputEl = gd.closest('.output');\n",
       "if (outputEl) {{\n",
       "    x.observe(outputEl, {childList: true});\n",
       "}}\n",
       "\n",
       "                        })                };                });            </script>        </div>"
      ]
     },
     "metadata": {},
     "output_type": "display_data"
    }
   ],
   "source": [
    "# From results data frame calculate the percentaje of NaNs\n",
    "# Missing values plot\n",
    "# Filter the DataFrame to include only features with '_mean' in their names\n",
    "\n",
    "mean_features = [col for col in merged_df.columns if '_median' in col]\n",
    "mean_features.extend(non_time_parameters)\n",
    "mean_features.extend(categorical_parameters)\n",
    "mean_features.extend(['In-hospital_death'])\n",
    "# Calculate the total number of values for each mean feature\n",
    "total_values = merged_df[mean_features].shape[0]\n",
    "\n",
    "\n",
    "# Calculate the total number of values for each mean feature\n",
    "total_values = merged_df[mean_features].shape[0]\n",
    "\n",
    "# Calculate the number of NaN values for each mean feature\n",
    "missing = merged_df[mean_features].isna().sum().reset_index()\n",
    "missing.columns = ['features', 'total_missing']\n",
    "missing['percent'] = (missing['total_missing'] / total_values) * 100\n",
    "missing.index = missing['features']\n",
    "del missing['features']\n",
    "\n",
    "# Plot the percentage of NaN values in total\n",
    "fig_total = go.Figure(data=[go.Bar(x=missing.index, y=missing['percent'], marker_color='blue')])\n",
    "fig_total.update_layout(title='<b>Missing Values Percent in Dataset</b>',\n",
    "                        xaxis_title='Features',\n",
    "                        yaxis_title='Percent',\n",
    "                        xaxis_tickangle=-90,  # Rotate x-axis labels for better visibility\n",
    "                        )  # Adjust height of the plot as needed\n",
    "fig_total.update_layout(xaxis=dict(tickfont=dict(size=8)))\n",
    "\n",
    "# Plot the percentage of NaN values by 'In-hospital_death'\n",
    "missing_grouped = merged_df.groupby('In-hospital_death')[mean_features].apply(lambda x: x.isna().sum() / len(x) * 100)\n",
    "fig_by_death = go.Figure()\n",
    "for death_value, missing_values in missing_grouped.iterrows():\n",
    "    fig_by_death.add_trace(go.Bar(name=f'In-hospital_death={death_value}', x=missing_values.index, y=missing_values.values))\n",
    "\n",
    "fig_by_death.update_layout(title='<b>Missing Values Percent by In-hospital_death</b>',\n",
    "                           xaxis_title='Features',\n",
    "                           yaxis_title='Percent',\n",
    "                           xaxis_tickangle=-90,  # Rotate x-axis labels for better visibility\n",
    "                           barmode='group')  # Adjust height of the plot as needed\n",
    "fig_by_death.update_layout(xaxis=dict(tickfont=dict(size=8)))\n",
    "\n",
    "# Show the plots\n",
    "fig_total.show()\n",
    "fig_by_death.show()"
   ]
  },
  {
   "cell_type": "markdown",
   "id": "ebf5938f-fcc7-48e4-a701-2b7f3fbb7cf0",
   "metadata": {},
   "source": [
    "Filter columns with missing values > threshold"
   ]
  },
  {
   "cell_type": "code",
   "execution_count": 116,
   "id": "eb9151a8-27a2-4ab3-bad9-82df01bed92b",
   "metadata": {},
   "outputs": [
    {
     "name": "stdout",
     "output_type": "stream",
     "text": [
      "Number of features missing more than 50% of values: 6\n",
      "NAme of features missing more than 50% of values: ['TropT' 'Albumin' 'ALP' 'Bilirubin' 'ALT' 'AST']\n"
     ]
    }
   ],
   "source": [
    "total_rows = len(result)\n",
    "missing_values_percentage = (result.isnull().sum() / total_rows) * 100\n",
    "\n",
    "# Create a DataFrame to store missing values percentage\n",
    "missing_percentage_table = pd.DataFrame({\n",
    "    'Feature': missing_values_percentage.index,\n",
    "    'Missing Percentage': missing_values_percentage.values\n",
    "})\n",
    "\n",
    "# Sort missing percentage table by Missing Percentage column in descending order\n",
    "missing_percentage_table_sorted = missing_percentage_table.sort_values(by='Missing Percentage', ascending=False)\n",
    "\n",
    "# list features with missing values >50%\n",
    "\n",
    "features_missing_gt_50\n",
    "# Assuming you have the data stored in a DataFrame named df\n",
    "feature_names_missing50 = features_missing_gt_50['Feature'].str.split('_', n=1).str[0].unique()\n",
    "feature_names_missing50\n",
    "print(\"Number of features missing more than 50% of values:\", feature_names_missing50.shape[0])\n",
    "print(\"NAme of features missing more than 50% of values:\", feature_names_missing50)\n"
   ]
  },
  {
   "cell_type": "code",
   "execution_count": 117,
   "id": "c1ef9d7f-176f-42c5-89e6-b9a60e46400a",
   "metadata": {},
   "outputs": [
    {
     "name": "stdout",
     "output_type": "stream",
     "text": [
      "Difference between the lists: {'ALP', 'SaO2', 'Albumin', 'NISysABP', 'RespRate', 'SysABP', 'TropI', 'AST', 'TropT', 'ALT', 'NIDiasABP', 'Cholesterol', 'DiasABP', 'Bilirubin'}\n",
      "Size of initial time parameters: 36\n",
      "Size of filtered time parameters: 22\n"
     ]
    }
   ],
   "source": [
    "# Remove this features from the time parameters\n",
    "variables_to_drop_by_percentage = feature_names_missing50\n",
    "# Remove variables specified in variables_to_drop_by_clinical_judgement from time_parameters\n",
    "time_parameters = [param for param in time_parameters if param not in variables_to_drop_by_percentage]\n",
    "\n",
    "# Convert the lists to sets\n",
    "set_original = set(time_parameters_original)\n",
    "set_filtered = set(time_parameters)\n",
    "\n",
    "# Find the difference between the sets\n",
    "difference = set_original.symmetric_difference(set_filtered)\n",
    "\n",
    "# Print the difference and size of both lists\n",
    "print(\"Difference between the lists:\", difference)\n",
    "print(\"Size of initial time parameters:\", len(time_parameters_original))\n",
    "print(\"Size of filtered time parameters:\", len(time_parameters))"
   ]
  },
  {
   "cell_type": "markdown",
   "id": "e8299059-aea6-48a1-ad65-168bc46e3fb0",
   "metadata": {},
   "source": [
    "### 2. Feature extraction\n",
    "\n",
    "For every time parameter extract:\n",
    "   - median\n",
    "   - median at 24 hours\n",
    "   - median at 48 hours\n",
    "   - normalized MAD\n",
    "   - max\n",
    "   - last value\n",
    "   - slope"
   ]
  },
  {
   "cell_type": "code",
   "execution_count": 118,
   "id": "a62076cc-a8f6-4256-8025-b61443a480ea",
   "metadata": {},
   "outputs": [
    {
     "name": "stdout",
     "output_type": "stream",
     "text": [
      "Function 'process_time_series_files' elapsed time: 387.9965877532959 seconds\n"
     ]
    }
   ],
   "source": [
    "def extract_summarysed_features(df, time_parameters_filtered, demographic_parameters, categorical_parameters):\n",
    "    \"\"\"\n",
    "    Generate new time summarised features based on different statistics and extract the values for demographic parameters, categorical parameters, \n",
    "    from the given DataFrame.\n",
    "\n",
    "    Parameters:\n",
    "        df (pd.DataFrame): The input DataFrame containing time-series data.\n",
    "        time_parameters_filtered (list): A list of time-related parameters to extract statistics for.\n",
    "        demographic_parameters (list): A list of demographic parameters to extract.\n",
    "        categorical_parameters (list): A list of categorical parameters to extract.\n",
    "    \n",
    "    Returns:\n",
    "        pd.DataFrame: A DataFrame containing the extracted values for demographic parameters,\n",
    "                      categorical parameters, and various statistics for time parameters.\n",
    "    \"\"\"\n",
    "    # Replace -1.0 with NaN\n",
    "    df = df.replace(-1.0, np.nan)\n",
    "    \n",
    "    # Convert \"Time\" column to string\n",
    "    df['Time'] = df['Time'].astype(str)\n",
    "    \n",
    "    # Extract hour from \"Time\" column\n",
    "    df['Hour'] = df['Time'].str.split(':').str[0].astype(int)\n",
    "    \n",
    "    # Pivot the dataframe to have features as columns\n",
    "    df_pivot = df.pivot_table(index='Hour', columns='Parameter', values='Value', aggfunc='median')\n",
    "    \n",
    "    # Create a new dataframe to store the extracted values\n",
    "    new_df = pd.DataFrame()\n",
    "    \n",
    "    # Extract values for demographic parameters\n",
    "    demographic_data = {}\n",
    "    for feature in demographic_parameters:\n",
    "        if feature in df_pivot.columns:\n",
    "            demographic_data[feature] = df_pivot[feature].iloc[0]  # Extract the first value\n",
    "        else:\n",
    "            demographic_data[feature] = np.nan  # Feature not found, assign NaN\n",
    "    demographic_df = pd.DataFrame(demographic_data, index=[0])\n",
    "\n",
    "    # Extract values for categorical parameters\n",
    "    categorical_data = {}\n",
    "    for feature in categorical_parameters:\n",
    "        if feature in df_pivot.columns:\n",
    "            categorical_data[f'{feature}_start'] = df_pivot[df_pivot[feature].notna()].index.min()  # Extract the first value\n",
    "            categorical_data[feature] = df_pivot.loc[df_pivot[df_pivot[feature].notna()].index.min(), feature]\n",
    "        else:\n",
    "            categorical_data[feature] = np.nan  # Feature not found, assign NaN\n",
    "            categorical_data[f'{feature}_start'] = np.nan  # Feature not found, assign NaN\n",
    "    categorical_df = pd.DataFrame(categorical_data, index=[0])\n",
    "\n",
    "    \n",
    "    # Extract median from 0-24, median from 25-48, overal_median, mad, max, slope and last_available value\n",
    "    # for all time parameters\n",
    "    time_data = {}\n",
    "    \n",
    "    for feature in time_parameters_filtered:\n",
    "        if feature in df_pivot.columns:\n",
    "            # Remove outliers for the slope calculation\n",
    "            Q1 = df_pivot[feature].quantile(0.25)\n",
    "            Q3 = df_pivot[feature].quantile(0.75)\n",
    "            IQR = Q3 - Q1\n",
    "            lower_bound = Q1 - threshold_for_outliers * IQR\n",
    "            upper_bound = Q3 + threshold_for_outliers * IQR\n",
    "            df_pivot[feature] = df_pivot[feature].where((df_pivot[feature] >= lower_bound) & (df_pivot[feature] <= upper_bound))\n",
    "             \n",
    "            # Calculate median value for 0-24 hours\n",
    "            time_data[f'{feature}_24median'] = df_pivot.loc[0:24, feature].median()\n",
    "            # Calculate median value for 25-48 hours\n",
    "            time_data[f'{feature}_48median'] = df_pivot.loc[25:48, feature].median()\n",
    "            # Calculate overall median value\n",
    "            time_data[f'{feature}_median'] = df_pivot[feature].median()\n",
    "            # Calculate max value\n",
    "            time_data[f'{feature}_max'] = df_pivot[feature].max()\n",
    "            #calculate mad\n",
    "            # Calculate mean absolute deviation (MAD) normalised\n",
    "            # Calculate the absolute differences between each value and the median\n",
    "            absolute_diff_median = (np.abs(df_pivot[feature] - df_pivot[feature].median())).median()\n",
    "            # Calculate the median of these absolute differences\n",
    "            time_data[f'{feature}_mad'] = ((absolute_diff_median/df_pivot[feature].median())*100) if df_pivot[feature].median() != 0 else np.nan\n",
    "            # Calculate last available value\n",
    "            time_data[f'{feature}_last'] = df_pivot[feature].dropna().iloc[-1] if not df_pivot[feature].isnull().all() else np.nan\n",
    "            # Fit linear regression to the data\n",
    "            # Flatten the data for the feature across all hours\n",
    "            feature_values = df_pivot[feature].dropna().values\n",
    "            all_hours = df_pivot[feature].dropna().index.values\n",
    "            \n",
    "            if len(all_hours) > 1:\n",
    "                # Fit a linear regression line to the data\n",
    "                coefficients = np.polyfit(all_hours, feature_values, 1)\n",
    "                # Store the slope in the dataframe\n",
    "                time_data[f'{feature}_slope'] = coefficients[0]\n",
    "            else:\n",
    "                # Insufficient data points for linear regression, assign NaN\n",
    "                time_data[f'{feature}_slope'] = np.nan\n",
    "           \n",
    "        else:\n",
    "             # Calculate median value for 0-24 hours\n",
    "            time_data[f'{feature}_24median'] = np.nan\n",
    "            time_data[f'{feature}_48median'] = np.nan\n",
    "            time_data[f'{feature}_median'] = np.nan\n",
    "            time_data[f'{feature}_max'] = np.nan\n",
    "            time_data[f'{feature}_mad'] = np.nan\n",
    "            time_data[f'{feature}_last'] = np.nan\n",
    "            time_data[f'{feature}_slope'] = np.nan\n",
    "\n",
    "    time_df = pd.DataFrame(time_data, index=[0])\n",
    " \n",
    "    \n",
    "    # Concatenate all dataframes along columns axis\n",
    "    final_df = pd.concat([demographic_df, categorical_df, time_df], axis=1)\n",
    "    \n",
    "    return final_df\n",
    "\n",
    "#Uncomment this to create file!!\n",
    "#save dataframe for feature cleaning\n",
    "result = process_time_series_files(time_series_files, time_parameters, demographic_parameters, categorical_parameters, extract_summarysed_features)\n",
    "result.to_csv(os.path.join(file_path_to_save, \"uncleaned_summarysed_features.csv\"), index=False)"
   ]
  },
  {
   "cell_type": "code",
   "execution_count": 119,
   "id": "558620ea-35a2-44e3-8486-7b771b5726c8",
   "metadata": {},
   "outputs": [
    {
     "name": "stdout",
     "output_type": "stream",
     "text": [
      "Number of columns after feature extraction: 161\n"
     ]
    }
   ],
   "source": [
    "final_dataframe = pd.read_csv(os.path.join(file_path_to_save, 'uncleaned_summarysed_features.csv'))\n",
    "print(\"Number of columns after feature extraction:\", final_dataframe.shape[1])"
   ]
  },
  {
   "cell_type": "code",
   "execution_count": 120,
   "id": "7f3a1e24-d8e3-452f-9111-5b3edbe7e7dd",
   "metadata": {},
   "outputs": [
    {
     "data": {
      "text/html": [
       "<div>\n",
       "<style scoped>\n",
       "    .dataframe tbody tr th:only-of-type {\n",
       "        vertical-align: middle;\n",
       "    }\n",
       "\n",
       "    .dataframe tbody tr th {\n",
       "        vertical-align: top;\n",
       "    }\n",
       "\n",
       "    .dataframe thead th {\n",
       "        text-align: right;\n",
       "    }\n",
       "</style>\n",
       "<table border=\"1\" class=\"dataframe\">\n",
       "  <thead>\n",
       "    <tr style=\"text-align: right;\">\n",
       "      <th></th>\n",
       "      <th>RecordID</th>\n",
       "      <th>Age</th>\n",
       "      <th>Gender</th>\n",
       "      <th>ICUType</th>\n",
       "      <th>BMI</th>\n",
       "      <th>MechVent</th>\n",
       "      <th>MechVent_start</th>\n",
       "      <th>BUN_24median</th>\n",
       "      <th>BUN_48median</th>\n",
       "      <th>BUN_median</th>\n",
       "      <th>...</th>\n",
       "      <th>WBC_max</th>\n",
       "      <th>WBC_mad</th>\n",
       "      <th>WBC_last</th>\n",
       "      <th>WBC_slope</th>\n",
       "      <th>Weight_24median</th>\n",
       "      <th>Weight_48median</th>\n",
       "      <th>Weight_max</th>\n",
       "      <th>Weight_mad</th>\n",
       "      <th>Weight_last</th>\n",
       "      <th>Weight_slope</th>\n",
       "    </tr>\n",
       "  </thead>\n",
       "  <tbody>\n",
       "    <tr>\n",
       "      <th>0</th>\n",
       "      <td>132539.0</td>\n",
       "      <td>54.0</td>\n",
       "      <td>0.0</td>\n",
       "      <td>4.0</td>\n",
       "      <td>NaN</td>\n",
       "      <td>NaN</td>\n",
       "      <td>NaN</td>\n",
       "      <td>13.0</td>\n",
       "      <td>8.0</td>\n",
       "      <td>10.5</td>\n",
       "      <td>...</td>\n",
       "      <td>11.2</td>\n",
       "      <td>8.737864</td>\n",
       "      <td>9.4</td>\n",
       "      <td>-0.078261</td>\n",
       "      <td>NaN</td>\n",
       "      <td>NaN</td>\n",
       "      <td>NaN</td>\n",
       "      <td>NaN</td>\n",
       "      <td>NaN</td>\n",
       "      <td>NaN</td>\n",
       "    </tr>\n",
       "    <tr>\n",
       "      <th>1</th>\n",
       "      <td>132540.0</td>\n",
       "      <td>76.0</td>\n",
       "      <td>1.0</td>\n",
       "      <td>2.0</td>\n",
       "      <td>26.228364</td>\n",
       "      <td>1.0</td>\n",
       "      <td>1.0</td>\n",
       "      <td>17.0</td>\n",
       "      <td>21.0</td>\n",
       "      <td>18.0</td>\n",
       "      <td>...</td>\n",
       "      <td>13.3</td>\n",
       "      <td>1.526718</td>\n",
       "      <td>13.3</td>\n",
       "      <td>0.126301</td>\n",
       "      <td>80.6</td>\n",
       "      <td>80.6</td>\n",
       "      <td>80.6</td>\n",
       "      <td>0.0</td>\n",
       "      <td>80.6</td>\n",
       "      <td>5.728184e-16</td>\n",
       "    </tr>\n",
       "    <tr>\n",
       "      <th>2</th>\n",
       "      <td>132541.0</td>\n",
       "      <td>44.0</td>\n",
       "      <td>0.0</td>\n",
       "      <td>3.0</td>\n",
       "      <td>NaN</td>\n",
       "      <td>1.0</td>\n",
       "      <td>10.0</td>\n",
       "      <td>5.5</td>\n",
       "      <td>3.0</td>\n",
       "      <td>3.0</td>\n",
       "      <td>...</td>\n",
       "      <td>6.2</td>\n",
       "      <td>11.904762</td>\n",
       "      <td>6.2</td>\n",
       "      <td>0.058981</td>\n",
       "      <td>56.7</td>\n",
       "      <td>56.7</td>\n",
       "      <td>56.7</td>\n",
       "      <td>0.0</td>\n",
       "      <td>56.7</td>\n",
       "      <td>-7.200356e-16</td>\n",
       "    </tr>\n",
       "    <tr>\n",
       "      <th>3</th>\n",
       "      <td>132543.0</td>\n",
       "      <td>68.0</td>\n",
       "      <td>1.0</td>\n",
       "      <td>3.0</td>\n",
       "      <td>26.024291</td>\n",
       "      <td>NaN</td>\n",
       "      <td>NaN</td>\n",
       "      <td>21.5</td>\n",
       "      <td>10.0</td>\n",
       "      <td>20.0</td>\n",
       "      <td>...</td>\n",
       "      <td>11.5</td>\n",
       "      <td>10.227273</td>\n",
       "      <td>7.9</td>\n",
       "      <td>-0.095192</td>\n",
       "      <td>84.6</td>\n",
       "      <td>84.6</td>\n",
       "      <td>84.6</td>\n",
       "      <td>0.0</td>\n",
       "      <td>84.6</td>\n",
       "      <td>-5.533244e-16</td>\n",
       "    </tr>\n",
       "    <tr>\n",
       "      <th>4</th>\n",
       "      <td>132545.0</td>\n",
       "      <td>88.0</td>\n",
       "      <td>0.0</td>\n",
       "      <td>3.0</td>\n",
       "      <td>NaN</td>\n",
       "      <td>NaN</td>\n",
       "      <td>NaN</td>\n",
       "      <td>45.0</td>\n",
       "      <td>25.0</td>\n",
       "      <td>35.0</td>\n",
       "      <td>...</td>\n",
       "      <td>4.8</td>\n",
       "      <td>11.627907</td>\n",
       "      <td>4.8</td>\n",
       "      <td>0.038462</td>\n",
       "      <td>NaN</td>\n",
       "      <td>NaN</td>\n",
       "      <td>NaN</td>\n",
       "      <td>NaN</td>\n",
       "      <td>NaN</td>\n",
       "      <td>NaN</td>\n",
       "    </tr>\n",
       "  </tbody>\n",
       "</table>\n",
       "<p>5 rows × 160 columns</p>\n",
       "</div>"
      ],
      "text/plain": [
       "   RecordID   Age  Gender  ICUType        BMI  MechVent  MechVent_start  \\\n",
       "0  132539.0  54.0     0.0      4.0        NaN       NaN             NaN   \n",
       "1  132540.0  76.0     1.0      2.0  26.228364       1.0             1.0   \n",
       "2  132541.0  44.0     0.0      3.0        NaN       1.0            10.0   \n",
       "3  132543.0  68.0     1.0      3.0  26.024291       NaN             NaN   \n",
       "4  132545.0  88.0     0.0      3.0        NaN       NaN             NaN   \n",
       "\n",
       "   BUN_24median  BUN_48median  BUN_median  ...  WBC_max    WBC_mad  WBC_last  \\\n",
       "0          13.0           8.0        10.5  ...     11.2   8.737864       9.4   \n",
       "1          17.0          21.0        18.0  ...     13.3   1.526718      13.3   \n",
       "2           5.5           3.0         3.0  ...      6.2  11.904762       6.2   \n",
       "3          21.5          10.0        20.0  ...     11.5  10.227273       7.9   \n",
       "4          45.0          25.0        35.0  ...      4.8  11.627907       4.8   \n",
       "\n",
       "   WBC_slope  Weight_24median  Weight_48median  Weight_max  Weight_mad  \\\n",
       "0  -0.078261              NaN              NaN         NaN         NaN   \n",
       "1   0.126301             80.6             80.6        80.6         0.0   \n",
       "2   0.058981             56.7             56.7        56.7         0.0   \n",
       "3  -0.095192             84.6             84.6        84.6         0.0   \n",
       "4   0.038462              NaN              NaN         NaN         NaN   \n",
       "\n",
       "   Weight_last  Weight_slope  \n",
       "0          NaN           NaN  \n",
       "1         80.6  5.728184e-16  \n",
       "2         56.7 -7.200356e-16  \n",
       "3         84.6 -5.533244e-16  \n",
       "4          NaN           NaN  \n",
       "\n",
       "[5 rows x 160 columns]"
      ]
     },
     "execution_count": 120,
     "metadata": {},
     "output_type": "execute_result"
    }
   ],
   "source": [
    "\n",
    "#Create BMI value and drop 'Height', 'Weight_median'\n",
    "final_dataframe['BMI'] = np.where(final_dataframe['Height'].isnull() | final_dataframe['Weight_median'].isnull(), np.nan, (final_dataframe['Weight_median'] / ((final_dataframe['Height'] / 100) ** 2)))\n",
    "                               \n",
    "#Add BMI to my demo features\n",
    "demographic_parameters.append('BMI')\n",
    "demographic_parameters.remove('Height')\n",
    "#Reorder dataframe so that demo parameters go first \n",
    "\n",
    "# Get a list of all column names\n",
    "columns = list(final_dataframe.columns)\n",
    "\n",
    "# Move demographic parameters to the beginning of the list\n",
    "for param in demographic_parameters[::-1]:\n",
    "    columns.remove(param)\n",
    "    columns.insert(0, param)\n",
    "\n",
    "# Reorder the DataFrame columns\n",
    "final_dataframe = final_dataframe[columns]\n",
    "final_dataframe.drop(columns=['Height', 'Weight_median'], inplace=True)   \n",
    "final_dataframe.head(5)"
   ]
  },
  {
   "cell_type": "markdown",
   "id": "ddd4e534-9e83-496f-9c90-aa15c335779a",
   "metadata": {},
   "source": [
    "### 2. Feature Selection"
   ]
  },
  {
   "cell_type": "markdown",
   "id": "eb032b52-6d9a-4b96-b7e1-461648f09145",
   "metadata": {},
   "source": [
    "##### Removing features with more than 50% NaN values"
   ]
  },
  {
   "cell_type": "code",
   "execution_count": 121,
   "id": "61efc3f4-d099-48c4-80cd-7e6bc17ea761",
   "metadata": {},
   "outputs": [
    {
     "name": "stdout",
     "output_type": "stream",
     "text": [
      "Number of features missing more than 50% of values: 3\n",
      "Name fo the features missing more than 50% of values: ['Lactate_48median', 'Lactate_slope', 'Lactate_24median']\n"
     ]
    },
    {
     "data": {
      "text/html": [
       "<div>\n",
       "<style scoped>\n",
       "    .dataframe tbody tr th:only-of-type {\n",
       "        vertical-align: middle;\n",
       "    }\n",
       "\n",
       "    .dataframe tbody tr th {\n",
       "        vertical-align: top;\n",
       "    }\n",
       "\n",
       "    .dataframe thead th {\n",
       "        text-align: right;\n",
       "    }\n",
       "</style>\n",
       "<table border=\"1\" class=\"dataframe\">\n",
       "  <thead>\n",
       "    <tr style=\"text-align: right;\">\n",
       "      <th></th>\n",
       "      <th>Feature</th>\n",
       "      <th>Missing Percentage</th>\n",
       "    </tr>\n",
       "  </thead>\n",
       "  <tbody>\n",
       "    <tr>\n",
       "      <th>71</th>\n",
       "      <td>Lactate_48median</td>\n",
       "      <td>73.7875</td>\n",
       "    </tr>\n",
       "    <tr>\n",
       "      <th>76</th>\n",
       "      <td>Lactate_slope</td>\n",
       "      <td>63.1875</td>\n",
       "    </tr>\n",
       "    <tr>\n",
       "      <th>70</th>\n",
       "      <td>Lactate_24median</td>\n",
       "      <td>50.4500</td>\n",
       "    </tr>\n",
       "  </tbody>\n",
       "</table>\n",
       "</div>"
      ],
      "text/plain": [
       "             Feature  Missing Percentage\n",
       "71  Lactate_48median             73.7875\n",
       "76     Lactate_slope             63.1875\n",
       "70  Lactate_24median             50.4500"
      ]
     },
     "execution_count": 121,
     "metadata": {},
     "output_type": "execute_result"
    }
   ],
   "source": [
    "# Calculate percentage of missing values per feature\n",
    "total_rows = len(final_dataframe)\n",
    "missing_values_percentage = (final_dataframe.isnull().sum() / total_rows) * 100\n",
    "\n",
    "# Create a DataFrame to store missing values percentage\n",
    "missing_percentage_table = pd.DataFrame({\n",
    "    'Feature': missing_values_percentage.index,\n",
    "    'Missing Percentage': missing_values_percentage.values\n",
    "})\n",
    "\n",
    "# Sort missing percentage table by Missing Percentage column in descending order\n",
    "missing_percentage_table_sorted = missing_percentage_table.sort_values(by='Missing Percentage', ascending=False)\n",
    "\n",
    "# list features with missing values >50%\n",
    "features_missing_gt_50 = missing_percentage_table_sorted[missing_percentage_table_sorted['Missing Percentage'] >= thresholds_for_non_important_features]\n",
    "print(\"Number of features missing more than 50% of values:\", features_missing_gt_50.shape[0])\n",
    "# List the feature names\n",
    "print(\"Name fo the features missing more than 50% of values:\", features_missing_gt_50['Feature'].tolist())\n",
    "features_missing_gt_50"
   ]
  },
  {
   "cell_type": "code",
   "execution_count": 122,
   "id": "2b32b6d5-f389-4b6d-8c8e-b2a9596b2f25",
   "metadata": {},
   "outputs": [
    {
     "name": "stdout",
     "output_type": "stream",
     "text": [
      "Number of features after eliminating >50% missing features: 157\n"
     ]
    }
   ],
   "source": [
    "# Create a boolean mask for features with missing percentage >= 70\n",
    "mask = missing_values_percentage >= thresholds_for_non_important_features \n",
    "final_dataframe_filtered = final_dataframe.loc[:, ~mask]\n",
    "print(\"Number of features after eliminating >50% missing features:\", final_dataframe_filtered.shape[1])"
   ]
  },
  {
   "cell_type": "markdown",
   "id": "5bd5faa1-7372-4ffd-b0d7-783aad5e3bf3",
   "metadata": {},
   "source": [
    "#### Removing low variance features"
   ]
  },
  {
   "cell_type": "code",
   "execution_count": 123,
   "id": "67196b3a-a2a1-402b-992d-4eafb8d6e56e",
   "metadata": {},
   "outputs": [
    {
     "name": "stdout",
     "output_type": "stream",
     "text": [
      "Selected columns: Index(['MechVent_start', 'BUN_24median', 'BUN_48median', 'BUN_median',\n",
      "       'BUN_max', 'BUN_mad', 'BUN_last', 'BUN_slope', 'Creatinine_24median',\n",
      "       'Creatinine_48median',\n",
      "       ...\n",
      "       'WBC_median', 'WBC_max', 'WBC_mad', 'WBC_last', 'WBC_slope',\n",
      "       'Weight_24median', 'Weight_48median', 'Weight_max', 'Weight_mad',\n",
      "       'Weight_last'],\n",
      "      dtype='object', length=142)\n",
      "Dropped columns: Index(['Creatinine_slope', 'FiO2_slope', 'GCS_slope', 'HCO3_slope',\n",
      "       'HCT_slope', 'K_slope', 'Mg_slope', 'Temp_slope', 'Weight_slope'],\n",
      "      dtype='object')\n"
     ]
    }
   ],
   "source": [
    "X = final_dataframe_filtered.drop(columns=demographic_parameters + categorical_parameters)\n",
    "\n",
    "# Step 1: Scale your features using RobustScaler\n",
    "scaler = RobustScaler()\n",
    "X_scaled = scaler.fit_transform(X)\n",
    "X_scaled = X\n",
    "# Instantiate the VarianceThreshold object with the desired threshold\n",
    "# Step 2: Use VarianceThreshold to select features based on variance\n",
    "threshold = 0.05  # Set your desired threshold\n",
    "sel = VarianceThreshold(threshold = thresholds_variance_reduction)\n",
    "X_selection = sel.fit_transform(X_scaled)\n",
    "\n",
    "# Get boolean mask of selected features\n",
    "selected_columns_mask = sel.get_support()\n",
    "\n",
    "# Get selected column names\n",
    "selected_columns = X.columns[selected_columns_mask]\n",
    "\n",
    "# Get dropped column names\n",
    "dropped_columns = X.columns[~selected_columns_mask]\n",
    "\n",
    "# Print selected and dropped column names\n",
    "print(\"Selected columns:\", selected_columns)\n",
    "print(\"Dropped columns:\", dropped_columns)"
   ]
  },
  {
   "cell_type": "code",
   "execution_count": 124,
   "id": "a4e9f251-d47f-4586-adad-ebdd56435447",
   "metadata": {},
   "outputs": [
    {
     "name": "stdout",
     "output_type": "stream",
     "text": [
      "Number of columns after low variance dropped: 148\n"
     ]
    }
   ],
   "source": [
    "final_dataframe_filtered = final_dataframe_filtered.drop(columns=dropped_columns.tolist())\n",
    "print(\"Number of columns after low variance dropped:\", final_dataframe_filtered.shape[1])"
   ]
  },
  {
   "cell_type": "markdown",
   "id": "4a739c95-77fa-4446-a29a-8e3057fa1efc",
   "metadata": {},
   "source": [
    "#### Removing high correlated features"
   ]
  },
  {
   "cell_type": "code",
   "execution_count": 125,
   "id": "8549386a-d6ed-4897-b5b5-f7b991cecbf7",
   "metadata": {},
   "outputs": [],
   "source": [
    "dataframe_4correlation = final_dataframe_filtered.drop(columns=demographic_parameters + categorical_parameters)\n",
    "\n",
    "#Re-order the dataframe so that we prioritize keeping the median features just because it is easy to interprete later\n",
    "median_cols = [col for col in dataframe_4correlation.columns if col.endswith(\"_median\")]\n",
    "non_median_cols = [col for col in dataframe_4correlation.columns if not col.endswith(\"_median\")]\n",
    "ordered_cols = median_cols + non_median_cols\n",
    "\n",
    "# Create the reordered DataFrame\n",
    "dataframe_4correlation_reordered = dataframe_4correlation[ordered_cols]\n"
   ]
  },
  {
   "cell_type": "code",
   "execution_count": 126,
   "id": "ae8a204f-f4ed-4ac4-a61b-0884bbd4f8fe",
   "metadata": {},
   "outputs": [],
   "source": [
    "# Calculate correlation matrix\n",
    "\n",
    "corr_matrix = dataframe_4correlation_reordered.corr().abs()\n",
    "# Set upper triangle of correlation matrix to NaN\n",
    "corr_matrix.values[np.triu_indices_from(corr_matrix)] = np.nan\n",
    "\n",
    "# Find highly correlated features\n",
    "highly_correlated_features = set()\n",
    "for col in corr_matrix.columns:\n",
    "    correlated_cols = corr_matrix[col][corr_matrix[col] > 0.8].index.tolist()\n",
    "    #print(col, \",\", correlated_cols)\n",
    "    # Drop the first column in each pair of highly correlated features\n",
    "    highly_correlated_features.update(correlated_cols)\n",
    "\n",
    "final_dataframe = final_dataframe_filtered.drop(columns=highly_correlated_features)\n"
   ]
  },
  {
   "cell_type": "code",
   "execution_count": 127,
   "id": "071e4178-588a-487a-a93f-0552a3dffc23",
   "metadata": {},
   "outputs": [
    {
     "name": "stdout",
     "output_type": "stream",
     "text": [
      "{'PaCO2_24median', 'Platelets_last', 'Urine_48median', 'Urine_24median', 'BUN_48median', 'Mg_24median', 'NIMAP_24median', 'Platelets_max', 'Creatinine_48median', 'Lactate_max', 'BUN_max', 'WBC_24median', 'NIMAP_48median', 'FiO2_last', 'HR_last', 'PaO2_last', 'Mg_last', 'MAP_24median', 'FiO2_48median', 'WBC_max', 'Na_last', 'HCT_24median', 'HR_24median', 'HCT_last', 'Temp_24median', 'HCT_max', 'Glucose_last', 'Weight_48median', 'MAP_48median', 'Na_24median', 'Platelets_48median', 'HCO3_last', 'HR_48median', 'Lactate_last', 'Na_48median', 'pH_48median', 'Creatinine_last', 'Platelets_24median', 'HCO3_24median', 'Weight_max', 'BUN_last', 'PaCO2_48median', 'K_last', 'K_24median', 'PaO2_24median', 'GCS_max', 'GCS_24median', 'HCT_48median', 'pH_24median', 'Na_max', 'PaCO2_last', 'GCS_last', 'Creatinine_max', 'pH_last', 'FiO2_24median', 'HCO3_48median', 'WBC_48median', 'Creatinine_24median', 'BUN_24median', 'WBC_last', 'GCS_48median', 'Weight_last', 'Mg_48median', 'PaCO2_max', 'pH_slope', 'pH_max', 'Glucose_24median', 'HCO3_max'}\n"
     ]
    }
   ],
   "source": [
    "# Calculate correlation matrix\n",
    "\n",
    "corr_matrix = dataframe_4correlation_reordered.corr().abs()\n",
    "# Set upper triangle of correlation matrix to NaN\n",
    "corr_matrix.values[np.triu_indices_from(corr_matrix)] = np.nan\n",
    "\n",
    "# Find highly correlated features\n",
    "highly_correlated_features = set()\n",
    "for col in corr_matrix.columns:\n",
    "    correlated_cols = corr_matrix[col][corr_matrix[col] > 0.8].index.tolist()\n",
    "    #print(col, \",\", correlated_cols)\n",
    "    # Drop the first column in each pair of highly correlated features\n",
    "    highly_correlated_features.update(correlated_cols)\n",
    "\n",
    "print(highly_correlated_features)"
   ]
  },
  {
   "cell_type": "code",
   "execution_count": 128,
   "id": "d6aabcee-0ed1-4494-a41d-4d97bf2f80b3",
   "metadata": {},
   "outputs": [
    {
     "name": "stdout",
     "output_type": "stream",
     "text": [
      "Number of columns after correlation features dropped: 80\n"
     ]
    }
   ],
   "source": [
    "print(\"Number of columns after correlation features dropped:\", final_dataframe.shape[1])"
   ]
  },
  {
   "cell_type": "code",
   "execution_count": 129,
   "id": "349be024",
   "metadata": {},
   "outputs": [],
   "source": [
    "#save dataframe \n",
    "final_dataframe.to_csv(os.path.join(file_path_to_save, \"clean_dataframe_with_NaN.csv\"), index=False)"
   ]
  },
  {
   "cell_type": "markdown",
   "id": "25ffbc4b",
   "metadata": {},
   "source": [
    "Now we have our final df saved and ready for next step : NaN imputation"
   ]
  }
 ],
 "metadata": {
  "kernelspec": {
   "display_name": "Python 3 (ipykernel)",
   "language": "python",
   "name": "python3"
  },
  "language_info": {
   "codemirror_mode": {
    "name": "ipython",
    "version": 3
   },
   "file_extension": ".py",
   "mimetype": "text/x-python",
   "name": "python",
   "nbconvert_exporter": "python",
   "pygments_lexer": "ipython3",
   "version": "3.11.5"
  }
 },
 "nbformat": 4,
 "nbformat_minor": 5
}
