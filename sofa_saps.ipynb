{
 "cells": [
  {
   "cell_type": "markdown",
   "metadata": {},
   "source": [
    "## SOFA /SAPS-I EVALUATION FOR COMPARISON PURPOSES"
   ]
  },
  {
   "cell_type": "markdown",
   "metadata": {},
   "source": [
    "#### Introduction\n",
    "\n",
    "\n",
    "<U>**SAPS-I**</U>   evaluates parameters such as age, heart rate, systolic blood pressure, body temperature, respiratory rate, urine output, and neurologic status within the first 24 hours of ICU admission, focusing on acute physiology. \n",
    "\n",
    "In contrast, <U>**SOFA**</U> (Sequential Organ Failure Assessment) assesses organ dysfunction by scoring parameters related to six organ systems: respiratory, coagulation, liver, cardiovascular, central nervous system, and renal, over the past 24 hours, providing a broader assessment of organ dysfunction over time.\n"
   ]
  },
  {
   "cell_type": "markdown",
   "metadata": {},
   "source": [
    "To be able to compare the results of the models developed in this Project we need to calculate the Recall and Precission of these both methods in death prediction.\n",
    "As both give a numerical probability scale with low, medium and high values to predict death we will consider:\n",
    " - low probability = 0\n",
    " - high probability = 1\n",
    " - medium probability = 0 (in order to give the model the highest possible score)\n",
    "\n",
    "Based on this we will calculate recall and precission of both prediction models"
   ]
  },
  {
   "cell_type": "markdown",
   "metadata": {},
   "source": [
    "STEP 1: Load data"
   ]
  },
  {
   "cell_type": "code",
   "execution_count": 49,
   "metadata": {},
   "outputs": [],
   "source": [
    "import pandas as pd\n",
    "import numpy as np\n",
    "from sklearn.metrics import recall_score, precision_score"
   ]
  },
  {
   "cell_type": "code",
   "execution_count": 50,
   "metadata": {},
   "outputs": [],
   "source": [
    "df_target_a = pd.read_csv(\"data/outcomes/Outcomes-a.txt\")\n",
    "df_target_a = pd.read_csv(\"data/outcomes/Outcomes-b.txt\")\n",
    "df_target_c = pd.read_csv(\"data/outcomes/Outcomes-c.txt\")"
   ]
  },
  {
   "cell_type": "code",
   "execution_count": 51,
   "metadata": {},
   "outputs": [
    {
     "data": {
      "text/html": [
       "<div>\n",
       "<style scoped>\n",
       "    .dataframe tbody tr th:only-of-type {\n",
       "        vertical-align: middle;\n",
       "    }\n",
       "\n",
       "    .dataframe tbody tr th {\n",
       "        vertical-align: top;\n",
       "    }\n",
       "\n",
       "    .dataframe thead th {\n",
       "        text-align: right;\n",
       "    }\n",
       "</style>\n",
       "<table border=\"1\" class=\"dataframe\">\n",
       "  <thead>\n",
       "    <tr style=\"text-align: right;\">\n",
       "      <th></th>\n",
       "      <th>RecordID</th>\n",
       "      <th>SAPS-I</th>\n",
       "      <th>SOFA</th>\n",
       "      <th>Length_of_stay</th>\n",
       "      <th>Survival</th>\n",
       "      <th>In-hospital_death</th>\n",
       "    </tr>\n",
       "  </thead>\n",
       "  <tbody>\n",
       "    <tr>\n",
       "      <th>0</th>\n",
       "      <td>142675</td>\n",
       "      <td>27</td>\n",
       "      <td>14</td>\n",
       "      <td>9</td>\n",
       "      <td>7</td>\n",
       "      <td>1</td>\n",
       "    </tr>\n",
       "    <tr>\n",
       "      <th>1</th>\n",
       "      <td>142676</td>\n",
       "      <td>12</td>\n",
       "      <td>1</td>\n",
       "      <td>31</td>\n",
       "      <td>468</td>\n",
       "      <td>0</td>\n",
       "    </tr>\n",
       "    <tr>\n",
       "      <th>2</th>\n",
       "      <td>142680</td>\n",
       "      <td>12</td>\n",
       "      <td>7</td>\n",
       "      <td>17</td>\n",
       "      <td>16</td>\n",
       "      <td>1</td>\n",
       "    </tr>\n",
       "    <tr>\n",
       "      <th>3</th>\n",
       "      <td>142683</td>\n",
       "      <td>19</td>\n",
       "      <td>15</td>\n",
       "      <td>17</td>\n",
       "      <td>-1</td>\n",
       "      <td>0</td>\n",
       "    </tr>\n",
       "    <tr>\n",
       "      <th>4</th>\n",
       "      <td>142688</td>\n",
       "      <td>3</td>\n",
       "      <td>0</td>\n",
       "      <td>9</td>\n",
       "      <td>-1</td>\n",
       "      <td>0</td>\n",
       "    </tr>\n",
       "  </tbody>\n",
       "</table>\n",
       "</div>"
      ],
      "text/plain": [
       "   RecordID  SAPS-I  SOFA  Length_of_stay  Survival  In-hospital_death\n",
       "0    142675      27    14               9         7                  1\n",
       "1    142676      12     1              31       468                  0\n",
       "2    142680      12     7              17        16                  1\n",
       "3    142683      19    15              17        -1                  0\n",
       "4    142688       3     0               9        -1                  0"
      ]
     },
     "execution_count": 51,
     "metadata": {},
     "output_type": "execute_result"
    }
   ],
   "source": [
    "df =  pd.concat([df_target_a, df_target_b, df_target_c], ignore_index=True)\n",
    "df.head()"
   ]
  },
  {
   "cell_type": "code",
   "execution_count": 52,
   "metadata": {},
   "outputs": [
    {
     "data": {
      "text/plain": [
       "(12000, 6)"
      ]
     },
     "execution_count": 52,
     "metadata": {},
     "output_type": "execute_result"
    }
   ],
   "source": [
    "df.shape"
   ]
  },
  {
   "cell_type": "markdown",
   "metadata": {},
   "source": [
    "STEP 2: remove actual values for each prediction model according to STEP1:\n",
    " - SOFA: \n",
    "    - Low risk: SOFA score ≤ 5 --> will be set to 0\n",
    "    - Moderate risk: SOFA score 6-11 --> will be set to 0\n",
    "    - High risk: SOFA score ≥ 12 --> will be set to 1\n",
    " - SAPS-I: \n",
    "    - Low risk: SAPS-I score ≤ 10 --> will be set to 0\n",
    "    - Moderate risk: SAPS-I score 11-20 --> will be set to 0\n",
    "    - High risk: SAPS-I score ≥ 21 --> will be set to 1"
   ]
  },
  {
   "cell_type": "code",
   "execution_count": 53,
   "metadata": {},
   "outputs": [],
   "source": [
    "df['SOFA_EV'] = df['SOFA'].apply(lambda x: 0 if x < 12  else 1)\n",
    "df['SAPS-I_EV'] = df['SAPS-I'].apply(lambda x: 0 if x < 21  else 1)"
   ]
  },
  {
   "cell_type": "code",
   "execution_count": 54,
   "metadata": {},
   "outputs": [
    {
     "data": {
      "text/html": [
       "<div>\n",
       "<style scoped>\n",
       "    .dataframe tbody tr th:only-of-type {\n",
       "        vertical-align: middle;\n",
       "    }\n",
       "\n",
       "    .dataframe tbody tr th {\n",
       "        vertical-align: top;\n",
       "    }\n",
       "\n",
       "    .dataframe thead th {\n",
       "        text-align: right;\n",
       "    }\n",
       "</style>\n",
       "<table border=\"1\" class=\"dataframe\">\n",
       "  <thead>\n",
       "    <tr style=\"text-align: right;\">\n",
       "      <th></th>\n",
       "      <th>RecordID</th>\n",
       "      <th>SAPS-I</th>\n",
       "      <th>SOFA</th>\n",
       "      <th>Length_of_stay</th>\n",
       "      <th>Survival</th>\n",
       "      <th>In-hospital_death</th>\n",
       "      <th>SOFA_EV</th>\n",
       "      <th>SAPS-I_EV</th>\n",
       "    </tr>\n",
       "  </thead>\n",
       "  <tbody>\n",
       "    <tr>\n",
       "      <th>0</th>\n",
       "      <td>142675</td>\n",
       "      <td>27</td>\n",
       "      <td>14</td>\n",
       "      <td>9</td>\n",
       "      <td>7</td>\n",
       "      <td>1</td>\n",
       "      <td>1</td>\n",
       "      <td>1</td>\n",
       "    </tr>\n",
       "    <tr>\n",
       "      <th>1</th>\n",
       "      <td>142676</td>\n",
       "      <td>12</td>\n",
       "      <td>1</td>\n",
       "      <td>31</td>\n",
       "      <td>468</td>\n",
       "      <td>0</td>\n",
       "      <td>0</td>\n",
       "      <td>0</td>\n",
       "    </tr>\n",
       "    <tr>\n",
       "      <th>2</th>\n",
       "      <td>142680</td>\n",
       "      <td>12</td>\n",
       "      <td>7</td>\n",
       "      <td>17</td>\n",
       "      <td>16</td>\n",
       "      <td>1</td>\n",
       "      <td>0</td>\n",
       "      <td>0</td>\n",
       "    </tr>\n",
       "    <tr>\n",
       "      <th>3</th>\n",
       "      <td>142683</td>\n",
       "      <td>19</td>\n",
       "      <td>15</td>\n",
       "      <td>17</td>\n",
       "      <td>-1</td>\n",
       "      <td>0</td>\n",
       "      <td>1</td>\n",
       "      <td>0</td>\n",
       "    </tr>\n",
       "    <tr>\n",
       "      <th>4</th>\n",
       "      <td>142688</td>\n",
       "      <td>3</td>\n",
       "      <td>0</td>\n",
       "      <td>9</td>\n",
       "      <td>-1</td>\n",
       "      <td>0</td>\n",
       "      <td>0</td>\n",
       "      <td>0</td>\n",
       "    </tr>\n",
       "  </tbody>\n",
       "</table>\n",
       "</div>"
      ],
      "text/plain": [
       "   RecordID  SAPS-I  SOFA  Length_of_stay  Survival  In-hospital_death  \\\n",
       "0    142675      27    14               9         7                  1   \n",
       "1    142676      12     1              31       468                  0   \n",
       "2    142680      12     7              17        16                  1   \n",
       "3    142683      19    15              17        -1                  0   \n",
       "4    142688       3     0               9        -1                  0   \n",
       "\n",
       "   SOFA_EV  SAPS-I_EV  \n",
       "0        1          1  \n",
       "1        0          0  \n",
       "2        0          0  \n",
       "3        1          0  \n",
       "4        0          0  "
      ]
     },
     "execution_count": 54,
     "metadata": {},
     "output_type": "execute_result"
    }
   ],
   "source": [
    "df.head()"
   ]
  },
  {
   "cell_type": "markdown",
   "metadata": {},
   "source": [
    "STEP 3: precision and recall evaluation"
   ]
  },
  {
   "cell_type": "code",
   "execution_count": 55,
   "metadata": {},
   "outputs": [],
   "source": [
    "sofa_precision = precision_score(df['In-hospital_death'], df['SOFA_EV'])\n",
    "saps_precision = precision_score(df['In-hospital_death'], df['SAPS-I_EV'])\n",
    "sofa_recall = recall_score(df['In-hospital_death'], df['SOFA_EV'])\n",
    "saps_recall = recall_score(df['In-hospital_death'], df['SAPS-I_EV'])"
   ]
  },
  {
   "cell_type": "code",
   "execution_count": 56,
   "metadata": {},
   "outputs": [
    {
     "name": "stdout",
     "output_type": "stream",
     "text": [
      "SOFA:  precision = 0.2923898531375167 , recall = 0.2545031958163858 \n",
      "SAPS-I  precision = 0.27563722584469474 , recall = 0.27019174898314935\n"
     ]
    }
   ],
   "source": [
    "print(f\"SOFA:  precision = {sofa_precision} , recall = {sofa_recall} \\n\"\n",
    "      f\"SAPS-I  precision = {saps_precision} , recall = {saps_recall}\"\n",
    "      )"
   ]
  },
  {
   "cell_type": "markdown",
   "metadata": {},
   "source": [
    "## LENGTH_OF_STAY RANDOM PROBABILITY EVALUATION FOR COMPARISON PURPOSES\n",
    "\n",
    "In order to find out if our models perform better than random Length_of_stay evaluation we make the following steps:\n",
    " - introduce 3 levels of lenth_of_stay:\n",
    "    - less than 8 days = short (assigned as number = 1)\n",
    "    - less or equal to 30 days = medium (assigned as number = 2)\n",
    "    - more than 30 days = long (assigned as number = 3)\n",
    "\n",
    "Based on this we will evaluate the random probability of each group of length_of_stay"
   ]
  },
  {
   "cell_type": "code",
   "execution_count": 73,
   "metadata": {},
   "outputs": [],
   "source": [
    "df['Length_of_stay_EV'] = df['Length_of_stay'].apply(lambda x: 1 if x < 8 else (2 if x < 31 else 3))"
   ]
  },
  {
   "cell_type": "code",
   "execution_count": 74,
   "metadata": {},
   "outputs": [],
   "source": [
    "random_lenght_of_stay_1 = (df[df['Length_of_stay_EV'] == 1].shape[0]/df.shape[0])*100\n",
    "random_lenght_of_stay_2 = (df[df['Length_of_stay_EV'] == 2].shape[0]/df.shape[0])*100\n",
    "random_lenght_of_stay_3 = (df[df['Length_of_stay_EV'] == 3].shape[0]/df.shape[0])*100"
   ]
  },
  {
   "cell_type": "code",
   "execution_count": 75,
   "metadata": {},
   "outputs": [
    {
     "name": "stdout",
     "output_type": "stream",
     "text": [
      " random length of stay = \n",
      " for less or equal to 1 week = 35.25%\n",
      " for less or equal to 1 month = 57.37%\n",
      " for more than 1 month = 7.38%\n"
     ]
    }
   ],
   "source": [
    "print(f\" random length of stay = \\n\"\n",
    "      f\" for less or equal to 1 week = {random_lenght_of_stay_1:.2f}%\\n\"\n",
    "      f\" for less or equal to 1 month = {random_lenght_of_stay_2:.2f}%\\n\"\n",
    "      f\" for more than 1 month = {random_lenght_of_stay_3:.2f}%\"\n",
    "      )\n"
   ]
  },
  {
   "cell_type": "code",
   "execution_count": null,
   "metadata": {},
   "outputs": [],
   "source": []
  }
 ],
 "metadata": {
  "kernelspec": {
   "display_name": "ironhack",
   "language": "python",
   "name": "ironhack"
  },
  "language_info": {
   "codemirror_mode": {
    "name": "ipython",
    "version": 3
   },
   "file_extension": ".py",
   "mimetype": "text/x-python",
   "name": "python",
   "nbconvert_exporter": "python",
   "pygments_lexer": "ipython3",
   "version": "3.11.8"
  }
 },
 "nbformat": 4,
 "nbformat_minor": 2
}
