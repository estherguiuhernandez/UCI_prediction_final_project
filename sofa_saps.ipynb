{
 "cells": [
  {
   "cell_type": "markdown",
   "metadata": {},
   "source": [
    "## SOFA /SAPS-I EVALUATION FOR COMPARISON PURPOSES"
   ]
  },
  {
   "cell_type": "markdown",
   "metadata": {},
   "source": [
    "#### Introduction\n",
    "\n",
    "\n",
    "<U>**SAPS-I**</U>   evaluates parameters such as age, heart rate, systolic blood pressure, body temperature, respiratory rate, urine output, and neurologic status within the first 24 hours of ICU admission, focusing on acute physiology. \n",
    "\n",
    "In contrast, <U>**SOFA**</U> (Sequential Organ Failure Assessment) assesses organ dysfunction by scoring parameters related to six organ systems: respiratory, coagulation, liver, cardiovascular, central nervous system, and renal, over the past 24 hours, providing a broader assessment of organ dysfunction over time.\n"
   ]
  },
  {
   "cell_type": "markdown",
   "metadata": {},
   "source": [
    "To be able to compare the results of the models developed in this Project we need to calculate the Recall and Precission of these both methods in death prediction.\n",
    "As both give a numerical probability scale with low, medium and high values to predict death we will consider:\n",
    " - low probability = 0\n",
    " - high probability = 1\n",
    " - the lowest 50% of the medium probility will be considered 0 while the top 50% will be considered 1\n",
    "\n",
    "Based on this we will calculate recall and precission of both prediction models"
   ]
  },
  {
   "cell_type": "markdown",
   "metadata": {},
   "source": [
    "STEP 1: Load data"
   ]
  },
  {
   "cell_type": "code",
   "execution_count": 1,
   "metadata": {},
   "outputs": [],
   "source": [
    "import pandas as pd\n",
    "import numpy as np"
   ]
  },
  {
   "cell_type": "code",
   "execution_count": 17,
   "metadata": {},
   "outputs": [],
   "source": [
    "df_target_a = pd.read_csv(\"data/outcomes/Outcomes-a.txt\")\n",
    "df_target_a = pd.read_csv(\"data/outcomes/Outcomes-b.txt\")\n",
    "df_target_c = pd.read_csv(\"data/outcomes/Outcomes-c.txt\")"
   ]
  },
  {
   "cell_type": "code",
   "execution_count": 18,
   "metadata": {},
   "outputs": [
    {
     "data": {
      "text/html": [
       "<div>\n",
       "<style scoped>\n",
       "    .dataframe tbody tr th:only-of-type {\n",
       "        vertical-align: middle;\n",
       "    }\n",
       "\n",
       "    .dataframe tbody tr th {\n",
       "        vertical-align: top;\n",
       "    }\n",
       "\n",
       "    .dataframe thead th {\n",
       "        text-align: right;\n",
       "    }\n",
       "</style>\n",
       "<table border=\"1\" class=\"dataframe\">\n",
       "  <thead>\n",
       "    <tr style=\"text-align: right;\">\n",
       "      <th></th>\n",
       "      <th>RecordID</th>\n",
       "      <th>SAPS-I</th>\n",
       "      <th>SOFA</th>\n",
       "      <th>Length_of_stay</th>\n",
       "      <th>Survival</th>\n",
       "      <th>In-hospital_death</th>\n",
       "    </tr>\n",
       "  </thead>\n",
       "  <tbody>\n",
       "    <tr>\n",
       "      <th>0</th>\n",
       "      <td>142675</td>\n",
       "      <td>27</td>\n",
       "      <td>14</td>\n",
       "      <td>9</td>\n",
       "      <td>7</td>\n",
       "      <td>1</td>\n",
       "    </tr>\n",
       "    <tr>\n",
       "      <th>1</th>\n",
       "      <td>142676</td>\n",
       "      <td>12</td>\n",
       "      <td>1</td>\n",
       "      <td>31</td>\n",
       "      <td>468</td>\n",
       "      <td>0</td>\n",
       "    </tr>\n",
       "    <tr>\n",
       "      <th>2</th>\n",
       "      <td>142680</td>\n",
       "      <td>12</td>\n",
       "      <td>7</td>\n",
       "      <td>17</td>\n",
       "      <td>16</td>\n",
       "      <td>1</td>\n",
       "    </tr>\n",
       "    <tr>\n",
       "      <th>3</th>\n",
       "      <td>142683</td>\n",
       "      <td>19</td>\n",
       "      <td>15</td>\n",
       "      <td>17</td>\n",
       "      <td>-1</td>\n",
       "      <td>0</td>\n",
       "    </tr>\n",
       "    <tr>\n",
       "      <th>4</th>\n",
       "      <td>142688</td>\n",
       "      <td>3</td>\n",
       "      <td>0</td>\n",
       "      <td>9</td>\n",
       "      <td>-1</td>\n",
       "      <td>0</td>\n",
       "    </tr>\n",
       "  </tbody>\n",
       "</table>\n",
       "</div>"
      ],
      "text/plain": [
       "   RecordID  SAPS-I  SOFA  Length_of_stay  Survival  In-hospital_death\n",
       "0    142675      27    14               9         7                  1\n",
       "1    142676      12     1              31       468                  0\n",
       "2    142680      12     7              17        16                  1\n",
       "3    142683      19    15              17        -1                  0\n",
       "4    142688       3     0               9        -1                  0"
      ]
     },
     "execution_count": 18,
     "metadata": {},
     "output_type": "execute_result"
    }
   ],
   "source": [
    "df =  pd.concat([df_target_a, df_target_b, df_target_c], ignore_index=True)\n",
    "df.head()"
   ]
  },
  {
   "cell_type": "code",
   "execution_count": 19,
   "metadata": {},
   "outputs": [
    {
     "data": {
      "text/plain": [
       "(12000, 6)"
      ]
     },
     "execution_count": 19,
     "metadata": {},
     "output_type": "execute_result"
    }
   ],
   "source": [
    "df.shape"
   ]
  },
  {
   "cell_type": "markdown",
   "metadata": {},
   "source": [
    "STEP 2: remove actual values for each prediction model according to STEP1:\n",
    " - SOFA: \n",
    "    - Low risk: SOFA score ≤ 5 --> will be set to 0\n",
    "    - Moderate risk: SOFA score 6-11 --> from 6 to 8 will be set to 0 // from 9 to 11 will be set to 1\n",
    "    - High risk: SOFA score ≥ 12 --> will be set to 1\n",
    " - SAPS-I: \n",
    "    - Low risk: SAPS-I score ≤ 10 --> will be set to 0\n",
    "    - Moderate risk: SAPS-I score 11-20 --> from 11 to 15 will be set to 0 // from 16 to 20 will be set to 1\n",
    "    - High risk: SAPS-I score ≥ 21 --> will be set to 1"
   ]
  },
  {
   "cell_type": "code",
   "execution_count": null,
   "metadata": {},
   "outputs": [],
   "source": []
  },
  {
   "cell_type": "code",
   "execution_count": null,
   "metadata": {},
   "outputs": [],
   "source": []
  }
 ],
 "metadata": {
  "kernelspec": {
   "display_name": "ironhack",
   "language": "python",
   "name": "ironhack"
  },
  "language_info": {
   "codemirror_mode": {
    "name": "ipython",
    "version": 3
   },
   "file_extension": ".py",
   "mimetype": "text/x-python",
   "name": "python",
   "nbconvert_exporter": "python",
   "pygments_lexer": "ipython3",
   "version": "3.11.8"
  }
 },
 "nbformat": 4,
 "nbformat_minor": 2
}
